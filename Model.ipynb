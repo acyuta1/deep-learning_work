{
 "cells": [
  {
   "cell_type": "markdown",
   "metadata": {
    "colab": {
     "base_uri": "https://localhost:8080/",
     "height": 302
    },
    "colab_type": "code",
    "id": "fysaY4f9zHoD",
    "outputId": "46ba699f-e4b2-49bf-ebd8-98af365c326f"
   },
   "source": [
    "# User to Item Recommendation system"
   ]
  },
  {
   "cell_type": "markdown",
   "metadata": {},
   "source": [
    "Loading Datasets. "
   ]
  },
  {
   "cell_type": "code",
   "execution_count": 3,
   "metadata": {
    "colab": {
     "base_uri": "https://localhost:8080/",
     "height": 79
    },
    "colab_type": "code",
    "id": "nC3KCaXdbAxe",
    "outputId": "acf0fd59-83be-46b9-c53b-b235d06b4354"
   },
   "outputs": [
    {
     "name": "stderr",
     "output_type": "stream",
     "text": [
      "Using TensorFlow backend.\n"
     ]
    },
    {
     "data": {
      "text/html": [
       "<p style=\"color: red;\">\n",
       "The default version of TensorFlow in Colab will soon switch to TensorFlow 2.x.<br>\n",
       "We recommend you <a href=\"https://www.tensorflow.org/guide/migrate\" target=\"_blank\">upgrade</a> now \n",
       "or ensure your notebook will continue to use TensorFlow 1.x via the <code>%tensorflow_version 1.x</code> magic:\n",
       "<a href=\"https://colab.research.google.com/notebooks/tensorflow_version.ipynb\" target=\"_blank\">more info</a>.</p>\n"
      ],
      "text/plain": [
       "<IPython.core.display.HTML object>"
      ]
     },
     "metadata": {
      "tags": []
     },
     "output_type": "display_data"
    }
   ],
   "source": [
    "import pandas as pd\n",
    "import numpy as np\n",
    "from keras.models import load_model\n",
    "\n",
    "links = pd.read_csv('gdrive/My Drive/links.csv')\n",
    "movies = pd.read_csv('gdrive/My Drive/movies.csv')\n",
    "ratings = pd.read_csv('gdrive/My Drive/ratings.csv')\n",
    "tags = pd.read_csv('gdrive/My Drive/tags.csv')"
   ]
  },
  {
   "cell_type": "markdown",
   "metadata": {},
   "source": [
    "Cleaning genres string. Replacing \"|\" with \" \" and replacing null with blank string."
   ]
  },
  {
   "cell_type": "code",
   "execution_count": 0,
   "metadata": {
    "colab": {},
    "colab_type": "code",
    "id": "7AN8BgjTbPtq"
   },
   "outputs": [],
   "source": [
    "tags_1 = pd.DataFrame(tags.groupby('movieId')['tag'].apply(lambda x: \"%s\" % ' '.join(x)))\n",
    "df = pd.merge(movies, tags_1,on='movieId', how='left')\n",
    "df['genres'] = df['genres'].str.replace('|',' ')\n",
    "df.fillna(\"\",inplace=True)"
   ]
  },
  {
   "cell_type": "markdown",
   "metadata": {},
   "source": [
    "Label Encoding \"movieId\" column so that the movieId's start with 1 and end with 9742 (max number of movies in the dataset).\n",
    "\n"
   ]
  },
  {
   "cell_type": "code",
   "execution_count": 0,
   "metadata": {
    "colab": {},
    "colab_type": "code",
    "id": "lp7uYIGDbS63"
   },
   "outputs": [],
   "source": [
    "from sklearn.preprocessing import LabelEncoder\n",
    "item_enc = LabelEncoder()\n",
    "\n",
    "df['movieId'] = item_enc.fit_transform(df['movieId'].values)\n",
    "\n",
    "df['movieId'] = df['movieId']+1"
   ]
  },
  {
   "cell_type": "markdown",
   "metadata": {},
   "source": [
    "Converting upper case characters to lower case. To avoid duplicates when the words are tokenized."
   ]
  },
  {
   "cell_type": "code",
   "execution_count": null,
   "metadata": {
    "colab": {},
    "colab_type": "code",
    "id": "qIW0olFtbUge"
   },
   "outputs": [],
   "source": [
    "import string\n",
    "df.genres = df.genres.apply(lambda x: x.lower())\n",
    "df.genres = df.genres.apply(lambda x: x.translate(string.punctuation))\n"
   ]
  },
  {
   "cell_type": "code",
   "execution_count": 0,
   "metadata": {
    "colab": {},
    "colab_type": "code",
    "id": "nxQOfZHObZtR"
   },
   "outputs": [],
   "source": [
    "ratings['movieId'] = item_enc.fit_transform(ratings['movieId'].values)\n",
    "\n",
    "ratings['movieId'] = ratings['movieId']+1\n"
   ]
  },
  {
   "cell_type": "markdown",
   "metadata": {},
   "source": [
    "We will be grouping both movies and their timestamps by userID. Since movies are arranged in ascending order, we will have to reorder movies PER user according to their timestamp, which will result in a better sequence order. "
   ]
  },
  {
   "cell_type": "code",
   "execution_count": 0,
   "metadata": {
    "colab": {},
    "colab_type": "code",
    "id": "ms8P7AK8bbWt"
   },
   "outputs": [],
   "source": [
    "user_movies_watched = pd.DataFrame(ratings.groupby(['userId']).apply(lambda x: [list(x['movieId'])]).apply(pd.Series))\n",
    "all_timestamps = pd.DataFrame(ratings.groupby(['userId']).apply(lambda x: [list(x['timestamp'])]).apply(pd.Series))\n",
    "user_movies_watched = pd.concat([user_movies_watched,all_timestamps], axis=1)\n",
    "\n",
    "user_movies_watched.columns = ['movies','timestamps']"
   ]
  },
  {
   "cell_type": "markdown",
   "metadata": {},
   "source": [
    "Grouping movies by Genres."
   ]
  },
  {
   "cell_type": "code",
   "execution_count": 0,
   "metadata": {
    "colab": {},
    "colab_type": "code",
    "id": "GZqIjNZdcNke"
   },
   "outputs": [],
   "source": [
    "genre_classes = pd.DataFrame(df.groupby(['genres']).apply(lambda x: [list(x['movieId'])]).apply(pd.Series)).reset_index()\n",
    "genre_classes.columns = ['genres','movieId']"
   ]
  },
  {
   "cell_type": "markdown",
   "metadata": {
    "colab": {},
    "colab_type": "code",
    "id": "fbsp6xGPc2Ia"
   },
   "source": [
    "Adding a new column which will now represent the unique genre strings.\n",
    "\n"
   ]
  },
  {
   "cell_type": "code",
   "execution_count": 12,
   "metadata": {
    "colab": {
     "base_uri": "https://localhost:8080/",
     "height": 402
    },
    "colab_type": "code",
    "id": "Ivl5weHDtj7Z",
    "outputId": "1a35cac8-a04d-4f8a-a72b-ffb0c4e59068"
   },
   "outputs": [
    {
     "data": {
      "text/html": [
       "<div>\n",
       "<style scoped>\n",
       "    .dataframe tbody tr th:only-of-type {\n",
       "        vertical-align: middle;\n",
       "    }\n",
       "\n",
       "    .dataframe tbody tr th {\n",
       "        vertical-align: top;\n",
       "    }\n",
       "\n",
       "    .dataframe thead th {\n",
       "        text-align: right;\n",
       "    }\n",
       "</style>\n",
       "<table border=\"1\" class=\"dataframe\">\n",
       "  <thead>\n",
       "    <tr style=\"text-align: right;\">\n",
       "      <th></th>\n",
       "      <th>genres</th>\n",
       "      <th>movieId</th>\n",
       "      <th>genres_class</th>\n",
       "    </tr>\n",
       "  </thead>\n",
       "  <tbody>\n",
       "    <tr>\n",
       "      <th>0</th>\n",
       "      <td>(no genres listed)</td>\n",
       "      <td>[8518, 8685, 8688, 8783, 8837, 8903, 9034, 905...</td>\n",
       "      <td>1</td>\n",
       "    </tr>\n",
       "    <tr>\n",
       "      <th>1</th>\n",
       "      <td>action</td>\n",
       "      <td>[9, 64, 173, 216, 556, 877, 1144, 1202, 1648, ...</td>\n",
       "      <td>2</td>\n",
       "    </tr>\n",
       "    <tr>\n",
       "      <th>2</th>\n",
       "      <td>action adventure</td>\n",
       "      <td>[575, 607, 637, 802, 901, 991, 1209, 1368, 161...</td>\n",
       "      <td>3</td>\n",
       "    </tr>\n",
       "    <tr>\n",
       "      <th>3</th>\n",
       "      <td>action adventure animation</td>\n",
       "      <td>[6926, 7923, 7924, 7925, 7926, 7942, 7943, 795...</td>\n",
       "      <td>4</td>\n",
       "    </tr>\n",
       "    <tr>\n",
       "      <th>4</th>\n",
       "      <td>action adventure animation children</td>\n",
       "      <td>[7902, 7903, 7905, 7907, 8345, 9709]</td>\n",
       "      <td>5</td>\n",
       "    </tr>\n",
       "    <tr>\n",
       "      <th>...</th>\n",
       "      <td>...</td>\n",
       "      <td>...</td>\n",
       "      <td>...</td>\n",
       "    </tr>\n",
       "    <tr>\n",
       "      <th>946</th>\n",
       "      <td>sci-fi thriller</td>\n",
       "      <td>[669, 1321, 2599, 2935, 3618, 3671, 3943, 5361...</td>\n",
       "      <td>947</td>\n",
       "    </tr>\n",
       "    <tr>\n",
       "      <th>947</th>\n",
       "      <td>sci-fi thriller imax</td>\n",
       "      <td>[7688]</td>\n",
       "      <td>948</td>\n",
       "    </tr>\n",
       "    <tr>\n",
       "      <th>948</th>\n",
       "      <td>thriller</td>\n",
       "      <td>[113, 162, 207, 332, 367, 399, 428, 474, 553, ...</td>\n",
       "      <td>949</td>\n",
       "    </tr>\n",
       "    <tr>\n",
       "      <th>949</th>\n",
       "      <td>war</td>\n",
       "      <td>[2006, 2007, 4388, 6787]</td>\n",
       "      <td>950</td>\n",
       "    </tr>\n",
       "    <tr>\n",
       "      <th>950</th>\n",
       "      <td>western</td>\n",
       "      <td>[179, 341, 361, 1802, 2180, 2198, 2291, 2321, ...</td>\n",
       "      <td>951</td>\n",
       "    </tr>\n",
       "  </tbody>\n",
       "</table>\n",
       "<p>951 rows × 3 columns</p>\n",
       "</div>"
      ],
      "text/plain": [
       "                                  genres  ... genres_class\n",
       "0                     (no genres listed)  ...            1\n",
       "1                                 action  ...            2\n",
       "2                       action adventure  ...            3\n",
       "3             action adventure animation  ...            4\n",
       "4    action adventure animation children  ...            5\n",
       "..                                   ...  ...          ...\n",
       "946                      sci-fi thriller  ...          947\n",
       "947                 sci-fi thriller imax  ...          948\n",
       "948                             thriller  ...          949\n",
       "949                                  war  ...          950\n",
       "950                              western  ...          951\n",
       "\n",
       "[951 rows x 3 columns]"
      ]
     },
     "execution_count": 12,
     "metadata": {
      "tags": []
     },
     "output_type": "execute_result"
    }
   ],
   "source": [
    "genre_classes_column = [int(i) for i in range(1,952)]\n",
    "genre_classes['genres_class'] = np.array(genre_classes_column)\n",
    "genre_classes"
   ]
  },
  {
   "cell_type": "markdown",
   "metadata": {},
   "source": [
    "Adding a new column to the main dataframe, which will now hold the tokenized genres.\n",
    "\n"
   ]
  },
  {
   "cell_type": "code",
   "execution_count": 0,
   "metadata": {
    "colab": {},
    "colab_type": "code",
    "id": "zNUIWDklg-Lc"
   },
   "outputs": [],
   "source": [
    "genre_classes_column = [int(i) for i in range(1,952)]\n",
    "genre_classes['genres_class'] = np.array(genre_classes_column)\n",
    "\n",
    "genre_dict = pd.Series(genre_classes.genres_class.values,index=genre_classes.genres).to_dict()\n",
    "df_gen = df.genres.values\n",
    "df_gen=[genre_dict[i] for i in df_gen]\n",
    "df['genres_class'] = np.array(df_gen)"
   ]
  },
  {
   "cell_type": "markdown",
   "metadata": {},
   "source": [
    "A dictionary of movies and its unique genre_class. "
   ]
  },
  {
   "cell_type": "code",
   "execution_count": 0,
   "metadata": {
    "colab": {},
    "colab_type": "code",
    "id": "YjTWtBsBnnWm"
   },
   "outputs": [],
   "source": [
    "genre_movie_dict = pd.Series(df.genres_class.values,index=df.movieId).to_dict()"
   ]
  },
  {
   "cell_type": "code",
   "execution_count": 16,
   "metadata": {
    "colab": {
     "base_uri": "https://localhost:8080/",
     "height": 136
    },
    "colab_type": "code",
    "id": "1vapbnENkXby",
    "outputId": "d4e47266-6b86-428d-b77f-bdf09078f690"
   },
   "outputs": [
    {
     "data": {
      "text/html": [
       "<div>\n",
       "<style scoped>\n",
       "    .dataframe tbody tr th:only-of-type {\n",
       "        vertical-align: middle;\n",
       "    }\n",
       "\n",
       "    .dataframe tbody tr th {\n",
       "        vertical-align: top;\n",
       "    }\n",
       "\n",
       "    .dataframe thead th {\n",
       "        text-align: right;\n",
       "    }\n",
       "</style>\n",
       "<table border=\"1\" class=\"dataframe\">\n",
       "  <thead>\n",
       "    <tr style=\"text-align: right;\">\n",
       "      <th></th>\n",
       "      <th>movieId</th>\n",
       "      <th>title</th>\n",
       "      <th>genres</th>\n",
       "      <th>tag</th>\n",
       "      <th>genres_class</th>\n",
       "    </tr>\n",
       "  </thead>\n",
       "  <tbody>\n",
       "    <tr>\n",
       "      <th>0</th>\n",
       "      <td>1</td>\n",
       "      <td>Toy Story (1995)</td>\n",
       "      <td>adventure animation children comedy fantasy</td>\n",
       "      <td>pixar pixar fun</td>\n",
       "      <td>352</td>\n",
       "    </tr>\n",
       "    <tr>\n",
       "      <th>1</th>\n",
       "      <td>2</td>\n",
       "      <td>Jumanji (1995)</td>\n",
       "      <td>adventure children fantasy</td>\n",
       "      <td>fantasy magic board game robin williams game</td>\n",
       "      <td>418</td>\n",
       "    </tr>\n",
       "    <tr>\n",
       "      <th>2</th>\n",
       "      <td>3</td>\n",
       "      <td>Grumpier Old Men (1995)</td>\n",
       "      <td>comedy romance</td>\n",
       "      <td>moldy old</td>\n",
       "      <td>733</td>\n",
       "    </tr>\n",
       "  </tbody>\n",
       "</table>\n",
       "</div>"
      ],
      "text/plain": [
       "   movieId  ... genres_class\n",
       "0        1  ...          352\n",
       "1        2  ...          418\n",
       "2        3  ...          733\n",
       "\n",
       "[3 rows x 5 columns]"
      ]
     },
     "execution_count": 16,
     "metadata": {
      "tags": []
     },
     "output_type": "execute_result"
    }
   ],
   "source": [
    "df.head(3)"
   ]
  },
  {
   "cell_type": "markdown",
   "metadata": {},
   "source": [
    "Obtaining a single long list which has all the movies seen by every user. Also obtaining a single long list which has all the associated timestamps."
   ]
  },
  {
   "cell_type": "code",
   "execution_count": 0,
   "metadata": {
    "colab": {},
    "colab_type": "code",
    "id": "_Y5u6l2WbqHB"
   },
   "outputs": [],
   "source": [
    "movies_all = user_movies_watched.movies.values\n",
    "time_stamps_all = user_movies_watched.timestamps.values"
   ]
  },
  {
   "cell_type": "markdown",
   "metadata": {},
   "source": [
    "For every user(indicated by the sublist **i**, we will be sorting/rearranging movies according to their timestamps."
   ]
  },
  {
   "cell_type": "code",
   "execution_count": null,
   "metadata": {},
   "outputs": [],
   "source": [
    "movies_list = []\n",
    "for i in range(0,len(movies_all)):\n",
    "    movies_list.append([x for _,x in sorted(zip(time_stamps_all[i],movies_all[i]))])"
   ]
  },
  {
   "cell_type": "markdown",
   "metadata": {},
   "source": [
    "Flattening the list of lists into one long list. Later we will create a sequence of 18 or 36."
   ]
  },
  {
   "cell_type": "code",
   "execution_count": 0,
   "metadata": {
    "colab": {},
    "colab_type": "code",
    "id": "stzttAqfbwMs"
   },
   "outputs": [],
   "source": [
    "movies_all = [item for sublist in movies_list for item in sublist]\n",
    "genres_all = [genre_movie_dict[item] for item in movies_all]"
   ]
  },
  {
   "cell_type": "markdown",
   "metadata": {},
   "source": [
    "Will be creating a sequence of 18 movies (which will be our movie Input). Next_movie list will have the movie which immediately follows after a particular sequence."
   ]
  },
  {
   "cell_type": "code",
   "execution_count": 0,
   "metadata": {
    "colab": {},
    "colab_type": "code",
    "id": "uW5tlixIxDOk"
   },
   "outputs": [],
   "source": [
    "maxlen = 18\n",
    "step = 18\n",
    "movies_list = []\n",
    "genres_list = []\n",
    "next_movie = []\n",
    "\n",
    "for i in range(0, len(movies_all) - maxlen, step):\n",
    "    movies_list.append(movies_all[i: i + maxlen])\n",
    "    next_movie.append(movies_all[i + maxlen])\n",
    "    genres_list.append(genres_all[i: i + maxlen])\n",
    "    "
   ]
  },
  {
   "cell_type": "code",
   "execution_count": 22,
   "metadata": {
    "colab": {
     "base_uri": "https://localhost:8080/",
     "height": 34
    },
    "colab_type": "code",
    "id": "wPgWfAcxoBpF",
    "outputId": "91f4f84b-093e-4c13-ed5d-e054958cfb7d"
   },
   "outputs": [
    {
     "name": "stdout",
     "output_type": "stream",
     "text": [
      "951 9724\n"
     ]
    }
   ],
   "source": [
    "gen_size = max(genres_all)\n",
    "movies_size = max(movies_all)\n",
    "\n",
    "print(gen_size,movies_size)"
   ]
  },
  {
   "cell_type": "markdown",
   "metadata": {},
   "source": [
    "Scaling movies array."
   ]
  },
  {
   "cell_type": "code",
   "execution_count": 0,
   "metadata": {
    "colab": {},
    "colab_type": "code",
    "id": "MePybTOPndgm"
   },
   "outputs": [],
   "source": [
    "x_mov = np.asarray(movies_list).astype('float32')/9724\n",
    "x_gen = np.asarray(genres_list)"
   ]
  },
  {
   "cell_type": "markdown",
   "metadata": {
    "colab": {
     "base_uri": "https://localhost:8080/",
     "height": 67
    },
    "colab_type": "code",
    "id": "OOpiv-01btGF",
    "outputId": "7e6f53d3-00d6-4fde-afc3-b3e64477f3f9"
   },
   "source": [
    "One hot encoded outputs.\n"
   ]
  },
  {
   "cell_type": "code",
   "execution_count": 0,
   "metadata": {
    "colab": {},
    "colab_type": "code",
    "id": "vIMUeGK8yEAV"
   },
   "outputs": [],
   "source": [
    "y = np.zeros((len(movies_list), 9743), dtype=np.bool)\n",
    "for i in range (0,len(movies_list)):\n",
    "    for j in range (0,maxlen):\n",
    "        y[i, next_movie[j]] = 1"
   ]
  },
  {
   "cell_type": "code",
   "execution_count": 28,
   "metadata": {
    "colab": {
     "base_uri": "https://localhost:8080/",
     "height": 134
    },
    "colab_type": "code",
    "id": "JPKrRorIoo3V",
    "outputId": "0de73dc4-99b2-4950-8339-bec98d44313b"
   },
   "outputs": [
    {
     "data": {
      "text/plain": [
       "array([[0., 1., 0., ..., 0., 0., 0.],\n",
       "       [0., 0., 0., ..., 0., 0., 0.],\n",
       "       [0., 0., 0., ..., 0., 0., 0.],\n",
       "       ...,\n",
       "       [0., 0., 0., ..., 0., 0., 0.],\n",
       "       [0., 0., 0., ..., 0., 0., 0.],\n",
       "       [0., 0., 0., ..., 0., 0., 0.]])"
      ]
     },
     "execution_count": 28,
     "metadata": {
      "tags": []
     },
     "output_type": "execute_result"
    }
   ],
   "source": [
    "y"
   ]
  },
  {
   "cell_type": "markdown",
   "metadata": {},
   "source": [
    "Custom accuracy metric to assess multi label performance."
   ]
  },
  {
   "cell_type": "code",
   "execution_count": 0,
   "metadata": {
    "colab": {},
    "colab_type": "code",
    "id": "1wtW1Wxrv4J8"
   },
   "outputs": [],
   "source": [
    "from keras import backend as K\n",
    "\n",
    "def full_multi_label_metric(y_true, y_pred):\n",
    "    comp = K.equal(y_true, K.round(y_pred))\n",
    "    return K.cast(K.all(comp, axis=-1), K.floatx())"
   ]
  },
  {
   "cell_type": "markdown",
   "metadata": {},
   "source": [
    "The model."
   ]
  },
  {
   "cell_type": "code",
   "execution_count": 0,
   "metadata": {
    "colab": {},
    "colab_type": "code",
    "id": "zE9_DYq7yHu2"
   },
   "outputs": [],
   "source": [
    "import keras\n",
    "from keras.layers import Concatenate, Dense, Dropout, Flatten, LSTM\n",
    "from keras.models import Model\n",
    "from keras.layers import Input, Reshape, Dot\n",
    "from keras.layers.embeddings import Embedding\n",
    "from keras.optimizers import Adam\n",
    "from keras.regularizers import l2\n",
    "from keras.layers import Add, Activation, Lambda\n",
    "from keras.layers import Bidirectional\n",
    "\n",
    "def rec():\n",
    "\n",
    "    genres = Input(shape=(18,))\n",
    "    g = Embedding(gen_size+1, 50)(genres)\n",
    "    g = Flatten()(g)\n",
    "\n",
    "    movies = Input(shape=(18,))\n",
    "    \n",
    "    x = Concatenate()([movies, g])\n",
    "    x = Reshape((1,918))(x)\n",
    "    x = LSTM(100) (x)\n",
    "    x = Dense(9743)(x)\n",
    "    x = Activation('softmax')(x)\n",
    "    \n",
    "    model = Model(inputs=[movies, genres], outputs=x)\n",
    "    opt = keras.optimizers.Adam(lr=0.001)\n",
    "    model.compile(loss='categorical_crossentropy', optimizer=opt,metrics=['accuracy'])\n",
    "    return model\n"
   ]
  },
  {
   "cell_type": "code",
   "execution_count": null,
   "metadata": {
    "colab": {
     "base_uri": "https://localhost:8080/",
     "height": 504
    },
    "colab_type": "code",
    "id": "8bdg2z-huKyk",
    "outputId": "89ef072d-7052-404a-fbe8-82a7f0408718"
   },
   "outputs": [],
   "source": [
    "model = rec()\n",
    "model.summary()"
   ]
  },
  {
   "cell_type": "code",
   "execution_count": null,
   "metadata": {
    "colab": {
     "base_uri": "https://localhost:8080/",
     "height": 1000
    },
    "colab_type": "code",
    "id": "KLqSmLVVYhPe",
    "outputId": "5c2aae99-7ade-4f3f-e28f-ca83ed555f5c"
   },
   "outputs": [],
   "source": [
    "history = model.fit(x=[x_mov,x_gen], y=y, batch_size=16, epochs=100, verbose=2)"
   ]
  },
  {
   "cell_type": "markdown",
   "metadata": {},
   "source": [
    "loss and accuracy plots."
   ]
  },
  {
   "cell_type": "code",
   "execution_count": 90,
   "metadata": {
    "colab": {
     "base_uri": "https://localhost:8080/",
     "height": 295
    },
    "colab_type": "code",
    "id": "1yESDkyNxxhb",
    "outputId": "f75046e9-7dcb-4cb4-d0bc-6a3fdffb7bfe"
   },
   "outputs": [
    {
     "data": {
      "image/png": "[encoded data removed]",
      "text/plain": [
       "<Figure size 432x288 with 1 Axes>"
      ]
     },
     "metadata": {
      "tags": []
     },
     "output_type": "display_data"
    }
   ],
   "source": [
    "import matplotlib.pyplot as plt\n",
    "plt.plot(history.history['loss'])\n",
    "plt.title('loss')\n",
    "plt.ylabel('loss')\n",
    "plt.xlabel('epoch')\n",
    "plt.show()"
   ]
  },
  {
   "cell_type": "markdown",
   "metadata": {},
   "source": [
    "Given a trained model and a seed movie sequence, we generate new movie recommendation by repeatedly:\n",
    "\n",
    "    1) Drawing from the model a probability distribution over the next movie given the sequence available so far\n",
    "    2) Reweighting the distribution to a certain \"temperature\"\n",
    "    3) Sampling the next movie at random according to the reweighted distribution\n",
    "    4) Adding the new movie at the end of the available movie sequence\n"
   ]
  },
  {
   "cell_type": "code",
   "execution_count": 0,
   "metadata": {
    "colab": {},
    "colab_type": "code",
    "id": "7CNvv1vUdv7U"
   },
   "outputs": [],
   "source": [
    "def sample(preds, temperature=0.1):\n",
    "    preds = np.asarray(preds).astype('float64')\n",
    "    exp_preds = preds - np.exp(temperature)\n",
    "    preds = exp_preds / np.sum(exp_preds)\n",
    "    probas = np.random.multinomial(1, preds, 1)\n",
    "    argmax = np.argmax(probas)\n",
    "    return [argmax,genre_movie_dict[argmax]]"
   ]
  },
  {
   "cell_type": "markdown",
   "metadata": {
    "colab": {
     "base_uri": "https://localhost:8080/",
     "height": 34
    },
    "colab_type": "code",
    "id": "aa_ZX4e5ZK99",
    "outputId": "bdc4503b-9f9c-4cdb-e11a-aafd39702b97"
   },
   "source": [
    "predict"
   ]
  },
  {
   "cell_type": "code",
   "execution_count": 0,
   "metadata": {
    "colab": {},
    "colab_type": "code",
    "id": "rMljYia6wpys"
   },
   "outputs": [],
   "source": [
    "import random\n",
    "\n",
    "start_index = random.randint(0, len(movies_all) - maxlen - 1)\n",
    "generated_seed = movies_all[start_index: start_index + maxlen]\n",
    "\n",
    "generated_seed = [1]\n",
    "genre_seed = [genre_movie_dict[i] for i in generated_seed]\n",
    "N = 18 - len(generated_seed)\n",
    "generated_seed = np.pad(generated_seed, (0, N), 'constant')\n",
    "generated_seed = generated_seed.tolist()\n",
    "genre_seed = np.pad(genre_seed, (0, N), 'constant')\n",
    "genre_seed = genre_seed.tolist()\n",
    "a = generated_seed\n",
    "print('--- Generating with seed ---')\n",
    "print(generated_seed)\n",
    "print('--- --- --- --- --- ---')\n",
    "next_word = []\n",
    "\n",
    "for i in range(40): #generate 20 words\n",
    "\n",
    "    array_seed = np.asarray(generated_seed).astype('float32')/9724\n",
    "    preds = model.predict([np.array([array_seed,]),np.array([genre_seed,])])[0]\n",
    "    next_index = sample(preds)\n",
    "    next_word.append(next_index[0])\n",
    "    generated_seed.append(next_index[0])\n",
    "    genre_seed.append(next_index[1])       \n",
    "    generated_seed = generated_seed[1:]\n",
    "    genre_seed = genre_seed[1:]"
   ]
  },
  {
   "cell_type": "markdown",
   "metadata": {},
   "source": [
    "Results."
   ]
  },
  {
   "cell_type": "code",
   "execution_count": 187,
   "metadata": {
    "colab": {
     "base_uri": "https://localhost:8080/",
     "height": 1000
    },
    "colab_type": "code",
    "id": "5L7h_qquwxpI",
    "outputId": "7b932149-dc80-49ae-cf75-0f57fd8c4732"
   },
   "outputs": [
    {
     "data": {
      "text/html": [
       "<div>\n",
       "<style scoped>\n",
       "    .dataframe tbody tr th:only-of-type {\n",
       "        vertical-align: middle;\n",
       "    }\n",
       "\n",
       "    .dataframe tbody tr th {\n",
       "        vertical-align: top;\n",
       "    }\n",
       "\n",
       "    .dataframe thead th {\n",
       "        text-align: right;\n",
       "    }\n",
       "</style>\n",
       "<table border=\"1\" class=\"dataframe\">\n",
       "  <thead>\n",
       "    <tr style=\"text-align: right;\">\n",
       "      <th></th>\n",
       "      <th>movieId</th>\n",
       "      <th>Title</th>\n",
       "      <th>Genres</th>\n",
       "      <th>Tags</th>\n",
       "      <th>genres_class</th>\n",
       "    </tr>\n",
       "  </thead>\n",
       "  <tbody>\n",
       "    <tr>\n",
       "      <th>0</th>\n",
       "      <td>258</td>\n",
       "      <td>Pulp Fiction (1994)</td>\n",
       "      <td>comedy crime drama thriller</td>\n",
       "      <td>good dialogue great soundtrack non-linear cult...</td>\n",
       "      <td>649</td>\n",
       "    </tr>\n",
       "    <tr>\n",
       "      <th>1</th>\n",
       "      <td>99</td>\n",
       "      <td>Taxi Driver (1976)</td>\n",
       "      <td>crime drama thriller</td>\n",
       "      <td>assassination</td>\n",
       "      <td>774</td>\n",
       "    </tr>\n",
       "    <tr>\n",
       "      <th>2</th>\n",
       "      <td>419</td>\n",
       "      <td>Jurassic Park (1993)</td>\n",
       "      <td>action adventure sci-fi thriller</td>\n",
       "      <td>dinosaur</td>\n",
       "      <td>130</td>\n",
       "    </tr>\n",
       "    <tr>\n",
       "      <th>3</th>\n",
       "      <td>2084</td>\n",
       "      <td>Yards, The (2000)</td>\n",
       "      <td>crime drama</td>\n",
       "      <td></td>\n",
       "      <td>748</td>\n",
       "    </tr>\n",
       "    <tr>\n",
       "      <th>4</th>\n",
       "      <td>250</td>\n",
       "      <td>Natural Born Killers (1994)</td>\n",
       "      <td>action crime thriller</td>\n",
       "      <td>brutality controversial dark comedy psychedeli...</td>\n",
       "      <td>261</td>\n",
       "    </tr>\n",
       "    <tr>\n",
       "      <th>5</th>\n",
       "      <td>303</td>\n",
       "      <td>Ace Ventura: Pet Detective (1994)</td>\n",
       "      <td>comedy</td>\n",
       "      <td></td>\n",
       "      <td>635</td>\n",
       "    </tr>\n",
       "    <tr>\n",
       "      <th>6</th>\n",
       "      <td>278</td>\n",
       "      <td>Shawshank Redemption, The (1994)</td>\n",
       "      <td>crime drama</td>\n",
       "      <td>prison stephen king wrongful imprisonment morg...</td>\n",
       "      <td>748</td>\n",
       "    </tr>\n",
       "    <tr>\n",
       "      <th>7</th>\n",
       "      <td>521</td>\n",
       "      <td>Fargo (1996)</td>\n",
       "      <td>comedy crime drama thriller</td>\n",
       "      <td>based on a true story dark comedy kidnapping s...</td>\n",
       "      <td>649</td>\n",
       "    </tr>\n",
       "    <tr>\n",
       "      <th>8</th>\n",
       "      <td>312</td>\n",
       "      <td>Crow, The (1994)</td>\n",
       "      <td>action crime fantasy thriller</td>\n",
       "      <td></td>\n",
       "      <td>245</td>\n",
       "    </tr>\n",
       "    <tr>\n",
       "      <th>9</th>\n",
       "      <td>487</td>\n",
       "      <td>True Romance (1993)</td>\n",
       "      <td>crime thriller</td>\n",
       "      <td></td>\n",
       "      <td>796</td>\n",
       "    </tr>\n",
       "    <tr>\n",
       "      <th>10</th>\n",
       "      <td>275</td>\n",
       "      <td>Specialist, The (1994)</td>\n",
       "      <td>action drama thriller</td>\n",
       "      <td></td>\n",
       "      <td>287</td>\n",
       "    </tr>\n",
       "    <tr>\n",
       "      <th>11</th>\n",
       "      <td>380</td>\n",
       "      <td>Coneheads (1993)</td>\n",
       "      <td>comedy sci-fi</td>\n",
       "      <td></td>\n",
       "      <td>738</td>\n",
       "    </tr>\n",
       "    <tr>\n",
       "      <th>12</th>\n",
       "      <td>2855</td>\n",
       "      <td>Tampopo (1985)</td>\n",
       "      <td>comedy</td>\n",
       "      <td></td>\n",
       "      <td>635</td>\n",
       "    </tr>\n",
       "    <tr>\n",
       "      <th>13</th>\n",
       "      <td>608</td>\n",
       "      <td>Striptease (1996)</td>\n",
       "      <td>comedy crime</td>\n",
       "      <td></td>\n",
       "      <td>636</td>\n",
       "    </tr>\n",
       "    <tr>\n",
       "      <th>14</th>\n",
       "      <td>445</td>\n",
       "      <td>Piano, The (1993)</td>\n",
       "      <td>drama romance</td>\n",
       "      <td></td>\n",
       "      <td>869</td>\n",
       "    </tr>\n",
       "    <tr>\n",
       "      <th>15</th>\n",
       "      <td>296</td>\n",
       "      <td>What's Eating Gilbert Grape (1993)</td>\n",
       "      <td>drama</td>\n",
       "      <td>mental illness</td>\n",
       "      <td>813</td>\n",
       "    </tr>\n",
       "    <tr>\n",
       "      <th>16</th>\n",
       "      <td>213</td>\n",
       "      <td>Houseguest (1994)</td>\n",
       "      <td>comedy</td>\n",
       "      <td>bad sinbad</td>\n",
       "      <td>635</td>\n",
       "    </tr>\n",
       "    <tr>\n",
       "      <th>17</th>\n",
       "      <td>5</td>\n",
       "      <td>Father of the Bride Part II (1995)</td>\n",
       "      <td>comedy</td>\n",
       "      <td>pregnancy remake</td>\n",
       "      <td>635</td>\n",
       "    </tr>\n",
       "    <tr>\n",
       "      <th>18</th>\n",
       "      <td>399</td>\n",
       "      <td>Fugitive, The (1993)</td>\n",
       "      <td>thriller</td>\n",
       "      <td>based on a tv show</td>\n",
       "      <td>949</td>\n",
       "    </tr>\n",
       "    <tr>\n",
       "      <th>19</th>\n",
       "      <td>329</td>\n",
       "      <td>Naked Gun 33 1/3: The Final Insult (1994)</td>\n",
       "      <td>action comedy</td>\n",
       "      <td></td>\n",
       "      <td>183</td>\n",
       "    </tr>\n",
       "    <tr>\n",
       "      <th>20</th>\n",
       "      <td>432</td>\n",
       "      <td>Executive Decision (1996)</td>\n",
       "      <td>action adventure thriller</td>\n",
       "      <td></td>\n",
       "      <td>134</td>\n",
       "    </tr>\n",
       "    <tr>\n",
       "      <th>21</th>\n",
       "      <td>212</td>\n",
       "      <td>Heavenly Creatures (1994)</td>\n",
       "      <td>crime drama</td>\n",
       "      <td>australia</td>\n",
       "      <td>748</td>\n",
       "    </tr>\n",
       "    <tr>\n",
       "      <th>22</th>\n",
       "      <td>254</td>\n",
       "      <td>Outbreak (1995)</td>\n",
       "      <td>action drama sci-fi thriller</td>\n",
       "      <td></td>\n",
       "      <td>286</td>\n",
       "    </tr>\n",
       "    <tr>\n",
       "      <th>23</th>\n",
       "      <td>603</td>\n",
       "      <td>Dr. Strangelove or: How I Learned to Stop Worr...</td>\n",
       "      <td>comedy war</td>\n",
       "      <td>dark comedy atomic bomb black comedy dark come...</td>\n",
       "      <td>742</td>\n",
       "    </tr>\n",
       "    <tr>\n",
       "      <th>24</th>\n",
       "      <td>255</td>\n",
       "      <td>Léon: The Professional (a.k.a. The Professiona...</td>\n",
       "      <td>action crime drama thriller</td>\n",
       "      <td>assassin jean reno hit men action assassin ass...</td>\n",
       "      <td>238</td>\n",
       "    </tr>\n",
       "    <tr>\n",
       "      <th>25</th>\n",
       "      <td>227</td>\n",
       "      <td>Little Princess, A (1995)</td>\n",
       "      <td>children drama</td>\n",
       "      <td>england girl power india</td>\n",
       "      <td>617</td>\n",
       "    </tr>\n",
       "    <tr>\n",
       "      <th>26</th>\n",
       "      <td>4306</td>\n",
       "      <td>Lilya 4-Ever (Lilja 4-ever) (2002)</td>\n",
       "      <td>crime drama</td>\n",
       "      <td>prostitution depressing melancholy sad</td>\n",
       "      <td>748</td>\n",
       "    </tr>\n",
       "    <tr>\n",
       "      <th>27</th>\n",
       "      <td>44</td>\n",
       "      <td>Seven (a.k.a. Se7en) (1995)</td>\n",
       "      <td>mystery thriller</td>\n",
       "      <td>mystery twist ending serial killer</td>\n",
       "      <td>938</td>\n",
       "    </tr>\n",
       "    <tr>\n",
       "      <th>28</th>\n",
       "      <td>326</td>\n",
       "      <td>Mask, The (1994)</td>\n",
       "      <td>action comedy crime fantasy</td>\n",
       "      <td></td>\n",
       "      <td>189</td>\n",
       "    </tr>\n",
       "    <tr>\n",
       "      <th>29</th>\n",
       "      <td>2101</td>\n",
       "      <td>European Vacation (aka National Lampoon's Euro...</td>\n",
       "      <td>adventure comedy romance</td>\n",
       "      <td></td>\n",
       "      <td>451</td>\n",
       "    </tr>\n",
       "  </tbody>\n",
       "</table>\n",
       "</div>"
      ],
      "text/plain": [
       "    movieId  ... genres_class\n",
       "0       258  ...          649\n",
       "1        99  ...          774\n",
       "2       419  ...          130\n",
       "3      2084  ...          748\n",
       "4       250  ...          261\n",
       "5       303  ...          635\n",
       "6       278  ...          748\n",
       "7       521  ...          649\n",
       "8       312  ...          245\n",
       "9       487  ...          796\n",
       "10      275  ...          287\n",
       "11      380  ...          738\n",
       "12     2855  ...          635\n",
       "13      608  ...          636\n",
       "14      445  ...          869\n",
       "15      296  ...          813\n",
       "16      213  ...          635\n",
       "17        5  ...          635\n",
       "18      399  ...          949\n",
       "19      329  ...          183\n",
       "20      432  ...          134\n",
       "21      212  ...          748\n",
       "22      254  ...          286\n",
       "23      603  ...          742\n",
       "24      255  ...          238\n",
       "25      227  ...          617\n",
       "26     4306  ...          748\n",
       "27       44  ...          938\n",
       "28      326  ...          189\n",
       "29     2101  ...          451\n",
       "\n",
       "[30 rows x 5 columns]"
      ]
     },
     "execution_count": 187,
     "metadata": {
      "tags": []
     },
     "output_type": "execute_result"
    }
   ],
   "source": [
    "df.set_index(\"movieId\").loc[next_word].reset_index()"
   ]
  },
  {
   "cell_type": "code",
   "execution_count": null,
   "metadata": {},
   "outputs": [],
   "source": []
  },
  {
   "cell_type": "code",
   "execution_count": 0,
   "metadata": {
    "colab": {},
    "colab_type": "code",
    "id": "yp-DtzBk8vmS"
   },
   "outputs": [],
   "source": []
  }
 ],
 "metadata": {
  "accelerator": "GPU",
  "colab": {
   "collapsed_sections": [],
   "name": "Untitled3.ipynb",
   "provenance": []
  },
  "kernelspec": {
   "display_name": "Python 3",
   "language": "python",
   "name": "python3"
  },
  "language_info": {
   "codemirror_mode": {
    "name": "ipython",
    "version": 3
   },
   "file_extension": ".py",
   "mimetype": "text/x-python",
   "name": "python",
   "nbconvert_exporter": "python",
   "pygments_lexer": "ipython3",
   "version": "3.7.4"
  }
 },
 "nbformat": 4,
 "nbformat_minor": 1
}

{
 "cells": [
  {
   "cell_type": "markdown",
   "metadata": {
    "colab": {
     "base_uri": "https://localhost:8080/",
     "height": 286
    },
    "colab_type": "code",
    "id": "fysaY4f9zHoD",
    "outputId": "cf6a58d1-7476-4ea0-d063-2ebdeacf8337"
   },
   "source": [
    "Loading Data"
   ]
  },
  {
   "cell_type": "code",
   "execution_count": 0,
   "metadata": {
    "colab": {},
    "colab_type": "code",
    "id": "nC3KCaXdbAxe"
   },
   "outputs": [],
   "source": [
    "import pandas as pd\n",
    "import numpy as np\n",
    "from keras.models import load_model\n",
    "\n",
    "links = pd.read_csv('gdrive/My Drive/links.csv')\n",
    "movies = pd.read_csv('gdrive/My Drive/movies.csv')\n",
    "ratings = pd.read_csv('gdrive/My Drive/ratings.csv')\n",
    "tags = pd.read_csv('gdrive/My Drive/tags.csv')"
   ]
  },
  {
   "cell_type": "markdown",
   "metadata": {},
   "source": [
    "Cleaning genres string. Replacing \"|\" with \" \" and replacing null with blank string."
   ]
  },
  {
   "cell_type": "code",
   "execution_count": 0,
   "metadata": {
    "colab": {},
    "colab_type": "code",
    "id": "7AN8BgjTbPtq"
   },
   "outputs": [],
   "source": [
    "tags_1 = pd.DataFrame(tags.groupby('movieId')['tag'].apply(lambda x: \"%s\" % ' '.join(x)))\n",
    "df = pd.merge(movies, tags_1,on='movieId', how='left')\n",
    "df['genres'] = df['genres'].str.replace('|',' ')\n",
    "df.fillna(\"\",inplace=True)"
   ]
  },
  {
   "cell_type": "markdown",
   "metadata": {},
   "source": [
    "Label Encoding \"movieId\" column so that the movieId's start with 1 and end with 9742 (max number of movies in the dataset).\n",
    "\n"
   ]
  },
  {
   "cell_type": "code",
   "execution_count": 0,
   "metadata": {
    "colab": {},
    "colab_type": "code",
    "id": "lp7uYIGDbS63"
   },
   "outputs": [],
   "source": [
    "from sklearn.preprocessing import LabelEncoder\n",
    "item_enc = LabelEncoder()\n",
    "\n",
    "df['movieId'] = item_enc.fit_transform(df['movieId'].values)\n",
    "\n",
    "df['movieId'] = df['movieId']+1"
   ]
  },
  {
   "cell_type": "markdown",
   "metadata": {},
   "source": [
    "Converting upper case characters to lower case. To avoid duplicates when the words are tokenized."
   ]
  },
  {
   "cell_type": "code",
   "execution_count": 0,
   "metadata": {
    "colab": {},
    "colab_type": "code",
    "id": "qIW0olFtbUge"
   },
   "outputs": [],
   "source": [
    "df.genres = df.genres.apply(lambda x: x.lower())"
   ]
  },
  {
   "cell_type": "code",
   "execution_count": 0,
   "metadata": {
    "colab": {},
    "colab_type": "code",
    "id": "b--k69P6bXqm"
   },
   "outputs": [],
   "source": [
    "import string\n",
    "df.genres = df.genres.apply(lambda x: x.translate(string.punctuation))\n",
    "df.tag = df.tag.apply(lambda x: x.translate(string.digits))"
   ]
  },
  {
   "cell_type": "code",
   "execution_count": 0,
   "metadata": {
    "colab": {},
    "colab_type": "code",
    "id": "nxQOfZHObZtR"
   },
   "outputs": [],
   "source": [
    "ratings['movieId'] = item_enc.fit_transform(ratings['movieId'].values)\n",
    "\n",
    "ratings['movieId'] = ratings['movieId']+1\n"
   ]
  },
  {
   "cell_type": "markdown",
   "metadata": {},
   "source": [
    "Grouping movies by userId.\n",
    "\n"
   ]
  },
  {
   "cell_type": "code",
   "execution_count": 0,
   "metadata": {
    "colab": {},
    "colab_type": "code",
    "id": "ms8P7AK8bbWt"
   },
   "outputs": [],
   "source": [
    "user_movies_watched = pd.DataFrame(ratings.groupby(['userId']).apply(lambda x: [list(x['movieId'])]).apply(pd.Series))"
   ]
  },
  {
   "cell_type": "markdown",
   "metadata": {},
   "source": [
    "Grouping movies by Genres."
   ]
  },
  {
   "cell_type": "code",
   "execution_count": 0,
   "metadata": {
    "colab": {},
    "colab_type": "code",
    "id": "GZqIjNZdcNke"
   },
   "outputs": [],
   "source": [
    "genre_classes = pd.DataFrame(df.groupby(['genres']).apply(lambda x: [list(x['movieId'])]).apply(pd.Series)).reset_index()"
   ]
  },
  {
   "cell_type": "code",
   "execution_count": 0,
   "metadata": {
    "colab": {},
    "colab_type": "code",
    "id": "fbsp6xGPc2Ia"
   },
   "outputs": [],
   "source": [
    "genre_classes.columns = ['genres','movieId']"
   ]
  },
  {
   "cell_type": "markdown",
   "metadata": {},
   "source": [
    "Adding a new column which will now represent the unique genre strings."
   ]
  },
  {
   "cell_type": "code",
   "execution_count": 14,
   "metadata": {
    "colab": {
     "base_uri": "https://localhost:8080/",
     "height": 402
    },
    "colab_type": "code",
    "id": "Ivl5weHDtj7Z",
    "outputId": "68b3d4c2-2bcc-47ad-caef-5f3dc15ee1ef"
   },
   "outputs": [
    {
     "data": {
      "text/html": [
       "<div>\n",
       "<style scoped>\n",
       "    .dataframe tbody tr th:only-of-type {\n",
       "        vertical-align: middle;\n",
       "    }\n",
       "\n",
       "    .dataframe tbody tr th {\n",
       "        vertical-align: top;\n",
       "    }\n",
       "\n",
       "    .dataframe thead th {\n",
       "        text-align: right;\n",
       "    }\n",
       "</style>\n",
       "<table border=\"1\" class=\"dataframe\">\n",
       "  <thead>\n",
       "    <tr style=\"text-align: right;\">\n",
       "      <th></th>\n",
       "      <th>genres</th>\n",
       "      <th>movieId</th>\n",
       "      <th>genres_class</th>\n",
       "    </tr>\n",
       "  </thead>\n",
       "  <tbody>\n",
       "    <tr>\n",
       "      <th>0</th>\n",
       "      <td>(no genres listed)</td>\n",
       "      <td>[8518, 8685, 8688, 8783, 8837, 8903, 9034, 905...</td>\n",
       "      <td>1</td>\n",
       "    </tr>\n",
       "    <tr>\n",
       "      <th>1</th>\n",
       "      <td>action</td>\n",
       "      <td>[9, 64, 173, 216, 556, 877, 1144, 1202, 1648, ...</td>\n",
       "      <td>2</td>\n",
       "    </tr>\n",
       "    <tr>\n",
       "      <th>2</th>\n",
       "      <td>action adventure</td>\n",
       "      <td>[575, 607, 637, 802, 901, 991, 1209, 1368, 161...</td>\n",
       "      <td>3</td>\n",
       "    </tr>\n",
       "    <tr>\n",
       "      <th>3</th>\n",
       "      <td>action adventure animation</td>\n",
       "      <td>[6926, 7923, 7924, 7925, 7926, 7942, 7943, 795...</td>\n",
       "      <td>4</td>\n",
       "    </tr>\n",
       "    <tr>\n",
       "      <th>4</th>\n",
       "      <td>action adventure animation children</td>\n",
       "      <td>[7902, 7903, 7905, 7907, 8345, 9709]</td>\n",
       "      <td>5</td>\n",
       "    </tr>\n",
       "    <tr>\n",
       "      <th>...</th>\n",
       "      <td>...</td>\n",
       "      <td>...</td>\n",
       "      <td>...</td>\n",
       "    </tr>\n",
       "    <tr>\n",
       "      <th>946</th>\n",
       "      <td>sci-fi thriller</td>\n",
       "      <td>[669, 1321, 2599, 2935, 3618, 3671, 3943, 5361...</td>\n",
       "      <td>947</td>\n",
       "    </tr>\n",
       "    <tr>\n",
       "      <th>947</th>\n",
       "      <td>sci-fi thriller imax</td>\n",
       "      <td>[7688]</td>\n",
       "      <td>948</td>\n",
       "    </tr>\n",
       "    <tr>\n",
       "      <th>948</th>\n",
       "      <td>thriller</td>\n",
       "      <td>[113, 162, 207, 332, 367, 399, 428, 474, 553, ...</td>\n",
       "      <td>949</td>\n",
       "    </tr>\n",
       "    <tr>\n",
       "      <th>949</th>\n",
       "      <td>war</td>\n",
       "      <td>[2006, 2007, 4388, 6787]</td>\n",
       "      <td>950</td>\n",
       "    </tr>\n",
       "    <tr>\n",
       "      <th>950</th>\n",
       "      <td>western</td>\n",
       "      <td>[179, 341, 361, 1802, 2180, 2198, 2291, 2321, ...</td>\n",
       "      <td>951</td>\n",
       "    </tr>\n",
       "  </tbody>\n",
       "</table>\n",
       "<p>951 rows × 3 columns</p>\n",
       "</div>"
      ],
      "text/plain": [
       "                                  genres  ... genres_class\n",
       "0                     (no genres listed)  ...            1\n",
       "1                                 action  ...            2\n",
       "2                       action adventure  ...            3\n",
       "3             action adventure animation  ...            4\n",
       "4    action adventure animation children  ...            5\n",
       "..                                   ...  ...          ...\n",
       "946                      sci-fi thriller  ...          947\n",
       "947                 sci-fi thriller imax  ...          948\n",
       "948                             thriller  ...          949\n",
       "949                                  war  ...          950\n",
       "950                              western  ...          951\n",
       "\n",
       "[951 rows x 3 columns]"
      ]
     },
     "execution_count": 14,
     "metadata": {
      "tags": []
     },
     "output_type": "execute_result"
    }
   ],
   "source": [
    "genre_classes_column = [int(i) for i in range(1,952)]\n",
    "genre_classes['genres_class'] = np.array(genre_classes_column)\n",
    "genre_classes"
   ]
  },
  {
   "cell_type": "markdown",
   "metadata": {},
   "source": [
    "Adding a new column to the main dataframe, which will now hold the tokenized genres."
   ]
  },
  {
   "cell_type": "code",
   "execution_count": 0,
   "metadata": {
    "colab": {},
    "colab_type": "code",
    "id": "zNUIWDklg-Lc"
   },
   "outputs": [],
   "source": [
    "genre_classes_column = [i for i in range(1,952)]\n",
    "genre_classes['genres_class'] = np.array(genre_classes_column)\n",
    "\n",
    "genre_dict = pd.Series(genre_classes.genres_class.values,index=genre_classes.genres).to_dict()\n",
    "df_gen = df.genres.values\n",
    "df_gen=[genre_dict[i] for i in df_gen]\n",
    "df['genres_class'] = np.array(df_gen)"
   ]
  },
  {
   "cell_type": "code",
   "execution_count": 18,
   "metadata": {
    "colab": {
     "base_uri": "https://localhost:8080/",
     "height": 136
    },
    "colab_type": "code",
    "id": "1vapbnENkXby",
    "outputId": "e697eeff-5ee4-4b92-a229-bc8ffd3956cb"
   },
   "outputs": [
    {
     "data": {
      "text/html": [
       "<div>\n",
       "<style scoped>\n",
       "    .dataframe tbody tr th:only-of-type {\n",
       "        vertical-align: middle;\n",
       "    }\n",
       "\n",
       "    .dataframe tbody tr th {\n",
       "        vertical-align: top;\n",
       "    }\n",
       "\n",
       "    .dataframe thead th {\n",
       "        text-align: right;\n",
       "    }\n",
       "</style>\n",
       "<table border=\"1\" class=\"dataframe\">\n",
       "  <thead>\n",
       "    <tr style=\"text-align: right;\">\n",
       "      <th></th>\n",
       "      <th>movieId</th>\n",
       "      <th>title</th>\n",
       "      <th>genres</th>\n",
       "      <th>tag</th>\n",
       "      <th>genres_class</th>\n",
       "    </tr>\n",
       "  </thead>\n",
       "  <tbody>\n",
       "    <tr>\n",
       "      <th>0</th>\n",
       "      <td>1</td>\n",
       "      <td>Toy Story (1995)</td>\n",
       "      <td>adventure animation children comedy fantasy</td>\n",
       "      <td>pixar pixar fun</td>\n",
       "      <td>352</td>\n",
       "    </tr>\n",
       "    <tr>\n",
       "      <th>1</th>\n",
       "      <td>2</td>\n",
       "      <td>Jumanji (1995)</td>\n",
       "      <td>adventure children fantasy</td>\n",
       "      <td>fantasy magic board game robin williams game</td>\n",
       "      <td>418</td>\n",
       "    </tr>\n",
       "    <tr>\n",
       "      <th>2</th>\n",
       "      <td>3</td>\n",
       "      <td>Grumpier Old Men (1995)</td>\n",
       "      <td>comedy romance</td>\n",
       "      <td>moldy old</td>\n",
       "      <td>733</td>\n",
       "    </tr>\n",
       "  </tbody>\n",
       "</table>\n",
       "</div>"
      ],
      "text/plain": [
       "   movieId  ... genres_class\n",
       "0        1  ...          352\n",
       "1        2  ...          418\n",
       "2        3  ...          733\n",
       "\n",
       "[3 rows x 5 columns]"
      ]
     },
     "execution_count": 18,
     "metadata": {
      "tags": []
     },
     "output_type": "execute_result"
    }
   ],
   "source": [
    "df.head(3)"
   ]
  },
  {
   "cell_type": "markdown",
   "metadata": {},
   "source": [
    "Now, coming back to the grouped movies."
   ]
  },
  {
   "cell_type": "code",
   "execution_count": 19,
   "metadata": {
    "colab": {
     "base_uri": "https://localhost:8080/",
     "height": 166
    },
    "colab_type": "code",
    "id": "qt6vzEaBbd2N",
    "outputId": "486530fc-9d74-4284-fbc3-c0774448ce51"
   },
   "outputs": [
    {
     "data": {
      "text/html": [
       "<div>\n",
       "<style scoped>\n",
       "    .dataframe tbody tr th:only-of-type {\n",
       "        vertical-align: middle;\n",
       "    }\n",
       "\n",
       "    .dataframe tbody tr th {\n",
       "        vertical-align: top;\n",
       "    }\n",
       "\n",
       "    .dataframe thead th {\n",
       "        text-align: right;\n",
       "    }\n",
       "</style>\n",
       "<table border=\"1\" class=\"dataframe\">\n",
       "  <thead>\n",
       "    <tr style=\"text-align: right;\">\n",
       "      <th></th>\n",
       "      <th>0</th>\n",
       "    </tr>\n",
       "    <tr>\n",
       "      <th>userId</th>\n",
       "      <th></th>\n",
       "    </tr>\n",
       "  </thead>\n",
       "  <tbody>\n",
       "    <tr>\n",
       "      <th>1</th>\n",
       "      <td>[1, 3, 6, 44, 47, 63, 90, 98, 125, 131, 137, 1...</td>\n",
       "    </tr>\n",
       "    <tr>\n",
       "      <th>2</th>\n",
       "      <td>[278, 292, 1284, 2671, 4608, 5295, 6237, 6299,...</td>\n",
       "    </tr>\n",
       "    <tr>\n",
       "      <th>3</th>\n",
       "      <td>[31, 462, 546, 566, 586, 657, 697, 832, 853, 9...</td>\n",
       "    </tr>\n",
       "  </tbody>\n",
       "</table>\n",
       "</div>"
      ],
      "text/plain": [
       "                                                        0\n",
       "userId                                                   \n",
       "1       [1, 3, 6, 44, 47, 63, 90, 98, 125, 131, 137, 1...\n",
       "2       [278, 292, 1284, 2671, 4608, 5295, 6237, 6299,...\n",
       "3       [31, 462, 546, 566, 586, 657, 697, 832, 853, 9..."
      ]
     },
     "execution_count": 19,
     "metadata": {
      "tags": []
     },
     "output_type": "execute_result"
    }
   ],
   "source": [
    "user_movies_watched.head(3)"
   ]
  },
  {
   "cell_type": "code",
   "execution_count": 0,
   "metadata": {
    "colab": {},
    "colab_type": "code",
    "id": "V9nteBPDbgQR"
   },
   "outputs": [],
   "source": [
    "user_movies_watched.columns = ['movies']"
   ]
  },
  {
   "cell_type": "markdown",
   "metadata": {},
   "source": [
    "Obtaining a single long list which has all the movies seen by every user.\n",
    "\n"
   ]
  },
  {
   "cell_type": "code",
   "execution_count": 0,
   "metadata": {
    "colab": {},
    "colab_type": "code",
    "id": "_Y5u6l2WbqHB"
   },
   "outputs": [],
   "source": [
    "movies_all = user_movies_watched.movies.values\n",
    "movies_all = [item for sublist in movies_all for item in sublist]"
   ]
  },
  {
   "cell_type": "code",
   "execution_count": 0,
   "metadata": {
    "colab": {},
    "colab_type": "code",
    "id": "stzttAqfbwMs"
   },
   "outputs": [],
   "source": [
    "# best to have a sequence size of 36: as 100836/36 is divisible"
   ]
  },
  {
   "cell_type": "markdown",
   "metadata": {},
   "source": [
    "Will be creating a sequence of 36 movies (which will be our movie Input)"
   ]
  },
  {
   "cell_type": "code",
   "execution_count": 0,
   "metadata": {
    "colab": {},
    "colab_type": "code",
    "id": "uW5tlixIxDOk"
   },
   "outputs": [],
   "source": [
    "maxlen = 36 \n",
    "step = 36\n",
    "movies_list = []\n",
    "for i in range(0, len(movies_all), step):\n",
    "    movies_list.append(movies_all[i: i + maxlen])"
   ]
  },
  {
   "cell_type": "code",
   "execution_count": 24,
   "metadata": {
    "colab": {
     "base_uri": "https://localhost:8080/",
     "height": 34
    },
    "colab_type": "code",
    "id": "yg8en41jxNtG",
    "outputId": "8d7aabc5-761c-4513-ba55-b3d40bbc06e1"
   },
   "outputs": [
    {
     "data": {
      "text/plain": [
       "2801"
      ]
     },
     "execution_count": 24,
     "metadata": {
      "tags": []
     },
     "output_type": "execute_result"
    }
   ],
   "source": [
    "len(movies_list)"
   ]
  },
  {
   "cell_type": "markdown",
   "metadata": {},
   "source": [
    "Obtain corresponding genre tokens."
   ]
  },
  {
   "cell_type": "code",
   "execution_count": 0,
   "metadata": {
    "colab": {},
    "colab_type": "code",
    "id": "ui9ZPjbdc4Xm"
   },
   "outputs": [],
   "source": [
    "master_genre = []\n",
    "for i in movies_list:\n",
    "    for j in i:\n",
    "        hi = int(df.genres_class[df.movieId==j])\n",
    "        master_genre.append(hi)\n",
    "    "
   ]
  },
  {
   "cell_type": "markdown",
   "metadata": {},
   "source": [
    "Will be creating a sequence of 36 genres (which will be our genre Input)"
   ]
  },
  {
   "cell_type": "code",
   "execution_count": 0,
   "metadata": {
    "colab": {},
    "colab_type": "code",
    "id": "dAh-FKyGlBx6"
   },
   "outputs": [],
   "source": [
    "maxlen = 36 \n",
    "step = 36\n",
    "genres_list = []\n",
    "for i in range(0, len(master_genre), step):\n",
    "    genres_list.append(master_genre[i: i + maxlen])"
   ]
  },
  {
   "cell_type": "code",
   "execution_count": 0,
   "metadata": {
    "colab": {},
    "colab_type": "code",
    "id": "wPgWfAcxoBpF"
   },
   "outputs": [],
   "source": [
    "gen_size = max(master_genre)\n",
    "movies_size = max(movies_all)"
   ]
  },
  {
   "cell_type": "markdown",
   "metadata": {},
   "source": [
    "Converting to float32 format, which is better suited for LSTM models compared to int."
   ]
  },
  {
   "cell_type": "code",
   "execution_count": 0,
   "metadata": {
    "colab": {},
    "colab_type": "code",
    "id": "MePybTOPndgm"
   },
   "outputs": [],
   "source": [
    "x_mov = np.asarray(movies_list).astype('float32')\n",
    "x_gen = np.asarray(genres_list).astype('float32')"
   ]
  },
  {
   "cell_type": "code",
   "execution_count": 29,
   "metadata": {
    "colab": {
     "base_uri": "https://localhost:8080/",
     "height": 84
    },
    "colab_type": "code",
    "id": "OOpiv-01btGF",
    "outputId": "4d40f9f1-1fa8-4617-bb6e-be3d3adccaf2"
   },
   "outputs": [
    {
     "data": {
      "text/plain": [
       "array([882., 710., 635., 813., 877., 183., 611., 221., 923., 635., 617.,\n",
       "       939., 666., 635., 774., 733., 733., 949., 874., 748., 748., 128.,\n",
       "       671., 855., 722., 688., 517., 617., 813., 635., 866., 683., 683.,\n",
       "       596., 869.,  26.], dtype=float32)"
      ]
     },
     "execution_count": 29,
     "metadata": {
      "tags": []
     },
     "output_type": "execute_result"
    }
   ],
   "source": [
    "x_gen[55]"
   ]
  },
  {
   "cell_type": "markdown",
   "metadata": {},
   "source": [
    "One hot encoded outputs corresponding the movie inputs."
   ]
  },
  {
   "cell_type": "code",
   "execution_count": 0,
   "metadata": {
    "colab": {},
    "colab_type": "code",
    "id": "vIMUeGK8yEAV"
   },
   "outputs": [],
   "source": [
    "y = np.zeros((2801, 9743),dtype=np.bool)\n",
    "def y_s(j,row):\n",
    "    for i in row:\n",
    "        y[j,i]=1\n",
    "\n",
    "for i in range(0,2801):\n",
    "    y_s(i,movies_list[i])"
   ]
  },
  {
   "cell_type": "code",
   "execution_count": 31,
   "metadata": {
    "colab": {
     "base_uri": "https://localhost:8080/",
     "height": 34
    },
    "colab_type": "code",
    "id": "JPKrRorIoo3V",
    "outputId": "f404276c-a372-41ba-a72e-5ff2e32724da"
   },
   "outputs": [
    {
     "data": {
      "text/plain": [
       "array([False,  True, False, ..., False, False, False])"
      ]
     },
     "execution_count": 31,
     "metadata": {
      "tags": []
     },
     "output_type": "execute_result"
    }
   ],
   "source": [
    "y[0]"
   ]
  },
  {
   "cell_type": "markdown",
   "metadata": {},
   "source": [
    "The deep learning model.\n",
    "\n"
   ]
  },
  {
   "cell_type": "code",
   "execution_count": 0,
   "metadata": {
    "colab": {},
    "colab_type": "code",
    "id": "evESEEqqV7z9"
   },
   "outputs": [],
   "source": [
    "\n",
    "import keras\n",
    "from keras.layers import Concatenate, Dense, Dropout, Flatten, LSTM\n",
    "from keras.models import Model\n",
    "from keras.layers import Input, Reshape, Dot\n",
    "from keras.layers.embeddings import Embedding\n",
    "from keras.optimizers import Adam\n",
    "from keras.regularizers import l2\n",
    "from keras.layers import Add, Activation, Lambda\n",
    "from keras.layers import Bidirectional\n",
    "\n",
    "def rec(n_factors):\n",
    "    \n",
    "    movies = Input(shape=(36,))\n",
    "    m = Embedding(movies_size+1, 256)(movies)\n",
    "    m = Flatten()(m)\n",
    "    \n",
    "    genres = Input(shape=(36,))\n",
    "    g = Embedding(gen_size+1, 256)(genres)\n",
    "    g = Flatten()(g)\n",
    "    \n",
    "    x = Concatenate()([m, g])\n",
    "    x = Reshape((1,18432))(x)\n",
    "    x = LSTM(256, return_sequences=False) (x)\n",
    "    x = Dropout(0.2)(x)\n",
    "    x = Activation('relu')(x)\n",
    "    x = Dense(9743)(x)\n",
    "    x = Activation('softmax')(x)\n",
    "    \n",
    "    model = Model(inputs=[movies, genres], outputs=x)\n",
    "    opt = keras.optimizers.RMSprop(lr=0.01)\n",
    "    model.compile(loss='binary_crossentropy', optimizer=opt,metrics=['accuracy'])\n",
    "    return model\n"
   ]
  },
  {
   "cell_type": "code",
   "execution_count": 380,
   "metadata": {
    "colab": {
     "base_uri": "https://localhost:8080/",
     "height": 605
    },
    "colab_type": "code",
    "id": "TF7JE6R5yWW2",
    "outputId": "2bda1fd3-1974-4321-d72e-1bbb74949fef"
   },
   "outputs": [
    {
     "name": "stdout",
     "output_type": "stream",
     "text": [
      "Model: \"model_18\"\n",
      "__________________________________________________________________________________________________\n",
      "Layer (type)                    Output Shape         Param #     Connected to                     \n",
      "==================================================================================================\n",
      "input_40 (InputLayer)           (None, 36)           0                                            \n",
      "__________________________________________________________________________________________________\n",
      "input_41 (InputLayer)           (None, 36)           0                                            \n",
      "__________________________________________________________________________________________________\n",
      "embedding_40 (Embedding)        (None, 36, 256)      2489600     input_40[0][0]                   \n",
      "__________________________________________________________________________________________________\n",
      "embedding_41 (Embedding)        (None, 36, 256)      243712      input_41[0][0]                   \n",
      "__________________________________________________________________________________________________\n",
      "flatten_32 (Flatten)            (None, 9216)         0           embedding_40[0][0]               \n",
      "__________________________________________________________________________________________________\n",
      "flatten_33 (Flatten)            (None, 9216)         0           embedding_41[0][0]               \n",
      "__________________________________________________________________________________________________\n",
      "concatenate_19 (Concatenate)    (None, 18432)        0           flatten_32[0][0]                 \n",
      "                                                                 flatten_33[0][0]                 \n",
      "__________________________________________________________________________________________________\n",
      "reshape_17 (Reshape)            (None, 1, 18432)     0           concatenate_19[0][0]             \n",
      "__________________________________________________________________________________________________\n",
      "lstm_25 (LSTM)                  (None, 256)          19137536    reshape_17[0][0]                 \n",
      "__________________________________________________________________________________________________\n",
      "dropout_29 (Dropout)            (None, 256)          0           lstm_25[0][0]                    \n",
      "__________________________________________________________________________________________________\n",
      "activation_37 (Activation)      (None, 256)          0           dropout_29[0][0]                 \n",
      "__________________________________________________________________________________________________\n",
      "dense_22 (Dense)                (None, 9743)         2503951     activation_37[0][0]              \n",
      "__________________________________________________________________________________________________\n",
      "activation_38 (Activation)      (None, 9743)         0           dense_22[0][0]                   \n",
      "==================================================================================================\n",
      "Total params: 24,374,799\n",
      "Trainable params: 24,374,799\n",
      "Non-trainable params: 0\n",
      "__________________________________________________________________________________________________\n"
     ]
    }
   ],
   "source": [
    "from keras.callbacks import EarlyStopping\n",
    "\n",
    "model = rec(50)\n",
    "model.summary()"
   ]
  },
  {
   "cell_type": "markdown",
   "metadata": {},
   "source": [
    "Early Stopping to avoid overfitting."
   ]
  },
  {
   "cell_type": "code",
   "execution_count": 0,
   "metadata": {
    "colab": {},
    "colab_type": "code",
    "id": "OUomBOha14zR"
   },
   "outputs": [],
   "source": [
    "from keras.callbacks import EarlyStopping\n",
    "es = EarlyStopping(monitor='val_loss', mode='min', verbose=1)"
   ]
  },
  {
   "cell_type": "markdown",
   "metadata": {},
   "source": [
    "Train/fit the model."
   ]
  },
  {
   "cell_type": "code",
   "execution_count": null,
   "metadata": {
    "colab": {
     "base_uri": "https://localhost:8080/",
     "height": 151
    },
    "colab_type": "code",
    "id": "90YfRd-tyy5v",
    "outputId": "84464dfe-e9d6-4be2-baac-56ca1a76a304"
   },
   "outputs": [],
   "source": [
    "#1000\n",
    "history = model.fit(x=[x_mov, x_gen], y=y, batch_size=16, epochs=1000, verbose=1, validation_split=0.001, callbacks=[es])"
   ]
  },
  {
   "cell_type": "markdown",
   "metadata": {},
   "source": [
    "Loss over time, looks good."
   ]
  },
  {
   "cell_type": "code",
   "execution_count": 68,
   "metadata": {
    "colab": {
     "base_uri": "https://localhost:8080/",
     "height": 295
    },
    "colab_type": "code",
    "id": "m1dI2q5Xy6Ta",
    "outputId": "dfccb571-128f-47ba-fc1b-e6f02470fd77"
   },
   "outputs": [
    {
     "data": {
      "image/png": "[encoded data removed]",
      "text/plain": [
       "<Figure size 432x288 with 1 Axes>"
      ]
     },
     "metadata": {
      "tags": []
     },
     "output_type": "display_data"
    }
   ],
   "source": [
    "import matplotlib.pyplot as plt\n",
    "plt.plot(history.history['loss'])\n",
    "plt.title('loss')\n",
    "plt.ylabel('loss')\n",
    "plt.xlabel('epoch')\n",
    "plt.show()"
   ]
  },
  {
   "cell_type": "markdown",
   "metadata": {},
   "source": [
    "To prepare custom inputs which will be fed to our model."
   ]
  },
  {
   "cell_type": "code",
   "execution_count": 0,
   "metadata": {
    "colab": {},
    "colab_type": "code",
    "id": "7CNvv1vUdv7U"
   },
   "outputs": [],
   "source": [
    "def prepare_inputs(movie_input):\n",
    "    \"\"\"\n",
    "    With only MovieID's as the input to our model, we are required to \n",
    "    obtain the required genre's and tag's and bring our raw input to\n",
    "    the required shape.\n",
    "    \"\"\"\n",
    "    \n",
    "    movie_input = [DF.movieId[DF['title']==i].iloc[0] for i in movie_input]\n",
    "    movies_copy = movie_input[:]\n",
    "\n",
    "    genres = (DF.genres_class[DF[\"movieId\"].isin(movie_input)].values).tolist()\n",
    "\n",
    "    genres = pad(genres, INPUT_LENGTH[\"genre_len\"])    \n",
    "    movie_input = pad(movie_input, INPUT_LENGTH[\"movie_len\"])\n",
    "    \n",
    "    return movie_input, genres, movies_copy"
   ]
  },
  {
   "cell_type": "markdown",
   "metadata": {},
   "source": [
    "predict."
   ]
  },
  {
   "cell_type": "code",
   "execution_count": 0,
   "metadata": {
    "colab": {},
    "colab_type": "code",
    "id": "rMljYia6wpys"
   },
   "outputs": [],
   "source": [
    "p = model.predict([np.array([movie_input,]),np.array([g_input,])])"
   ]
  },
  {
   "cell_type": "markdown",
   "metadata": {},
   "source": [
    "Results."
   ]
  },
  {
   "cell_type": "code",
   "execution_count": 407,
   "metadata": {
    "colab": {
     "base_uri": "https://localhost:8080/",
     "height": 1000
    },
    "colab_type": "code",
    "id": "5L7h_qquwxpI",
    "outputId": "2f4cb2d8-0d54-4c3c-a753-de6176c8c5c9"
   },
   "outputs": [
    {
     "data": {
      "text/html": [
       "<div>\n",
       "<style scoped>\n",
       "    .dataframe tbody tr th:only-of-type {\n",
       "        vertical-align: middle;\n",
       "    }\n",
       "\n",
       "    .dataframe tbody tr th {\n",
       "        vertical-align: top;\n",
       "    }\n",
       "\n",
       "    .dataframe thead th {\n",
       "        text-align: right;\n",
       "    }\n",
       "</style>\n",
       "<table border=\"1\" class=\"dataframe\">\n",
       "  <thead>\n",
       "    <tr style=\"text-align: right;\">\n",
       "      <th></th>\n",
       "      <th>movieId</th>\n",
       "      <th>Title</th>\n",
       "      <th>Genres</th>\n",
       "      <th>Tags</th>\n",
       "      <th>genres_class</th>\n",
       "    </tr>\n",
       "  </thead>\n",
       "  <tbody>\n",
       "    <tr>\n",
       "      <th>0</th>\n",
       "      <td>1044</td>\n",
       "      <td>Nightwatch (1997)</td>\n",
       "      <td>horror thriller</td>\n",
       "      <td></td>\n",
       "      <td>923</td>\n",
       "    </tr>\n",
       "    <tr>\n",
       "      <th>1</th>\n",
       "      <td>990</td>\n",
       "      <td>Some Kind of Wonderful (1987)</td>\n",
       "      <td>drama romance</td>\n",
       "      <td></td>\n",
       "      <td>869</td>\n",
       "    </tr>\n",
       "    <tr>\n",
       "      <th>2</th>\n",
       "      <td>1002</td>\n",
       "      <td>Man Who Would Be King, The (1975)</td>\n",
       "      <td>adventure drama</td>\n",
       "      <td>india</td>\n",
       "      <td>466</td>\n",
       "    </tr>\n",
       "    <tr>\n",
       "      <th>3</th>\n",
       "      <td>816</td>\n",
       "      <td>Willy Wonka &amp; the Chocolate Factory (1971)</td>\n",
       "      <td>children comedy fantasy musical</td>\n",
       "      <td></td>\n",
       "      <td>605</td>\n",
       "    </tr>\n",
       "    <tr>\n",
       "      <th>4</th>\n",
       "      <td>886</td>\n",
       "      <td>Hear My Song (1991)</td>\n",
       "      <td>comedy</td>\n",
       "      <td></td>\n",
       "      <td>635</td>\n",
       "    </tr>\n",
       "    <tr>\n",
       "      <th>5</th>\n",
       "      <td>836</td>\n",
       "      <td>Sophie's Choice (1982)</td>\n",
       "      <td>drama</td>\n",
       "      <td>holocaust</td>\n",
       "      <td>813</td>\n",
       "    </tr>\n",
       "    <tr>\n",
       "      <th>6</th>\n",
       "      <td>969</td>\n",
       "      <td>Arsenic and Old Lace (1944)</td>\n",
       "      <td>comedy mystery thriller</td>\n",
       "      <td>murder</td>\n",
       "      <td>732</td>\n",
       "    </tr>\n",
       "    <tr>\n",
       "      <th>7</th>\n",
       "      <td>839</td>\n",
       "      <td>Days of Thunder (1990)</td>\n",
       "      <td>action drama romance</td>\n",
       "      <td></td>\n",
       "      <td>279</td>\n",
       "    </tr>\n",
       "    <tr>\n",
       "      <th>8</th>\n",
       "      <td>900</td>\n",
       "      <td>Princess Bride, The (1987)</td>\n",
       "      <td>action adventure comedy fantasy romance</td>\n",
       "      <td>inigo montoya six-fingered man</td>\n",
       "      <td>67</td>\n",
       "    </tr>\n",
       "    <tr>\n",
       "      <th>9</th>\n",
       "      <td>958</td>\n",
       "      <td>Shining, The (1980)</td>\n",
       "      <td>horror</td>\n",
       "      <td>atmospheric disturbing horror jack nicholson m...</td>\n",
       "      <td>911</td>\n",
       "    </tr>\n",
       "    <tr>\n",
       "      <th>10</th>\n",
       "      <td>939</td>\n",
       "      <td>Local Hero (1983)</td>\n",
       "      <td>comedy</td>\n",
       "      <td></td>\n",
       "      <td>635</td>\n",
       "    </tr>\n",
       "    <tr>\n",
       "      <th>11</th>\n",
       "      <td>902</td>\n",
       "      <td>Brazil (1985)</td>\n",
       "      <td>fantasy sci-fi</td>\n",
       "      <td></td>\n",
       "      <td>903</td>\n",
       "    </tr>\n",
       "    <tr>\n",
       "      <th>12</th>\n",
       "      <td>899</td>\n",
       "      <td>Star Wars: Episode V - The Empire Strikes Back...</td>\n",
       "      <td>action adventure sci-fi</td>\n",
       "      <td>i am your father space space opera classic geo...</td>\n",
       "      <td>128</td>\n",
       "    </tr>\n",
       "    <tr>\n",
       "      <th>13</th>\n",
       "      <td>829</td>\n",
       "      <td>Reservoir Dogs (1992)</td>\n",
       "      <td>crime mystery thriller</td>\n",
       "      <td>ensemble cast nonlinear quentin tarantino styl...</td>\n",
       "      <td>791</td>\n",
       "    </tr>\n",
       "    <tr>\n",
       "      <th>14</th>\n",
       "      <td>961</td>\n",
       "      <td>Evil Dead II (Dead by Dawn) (1987)</td>\n",
       "      <td>action comedy fantasy horror</td>\n",
       "      <td></td>\n",
       "      <td>205</td>\n",
       "    </tr>\n",
       "    <tr>\n",
       "      <th>15</th>\n",
       "      <td>911</td>\n",
       "      <td>Once Upon a Time in the West (C'era una volta ...</td>\n",
       "      <td>action drama western</td>\n",
       "      <td>spaghetti western</td>\n",
       "      <td>294</td>\n",
       "    </tr>\n",
       "    <tr>\n",
       "      <th>16</th>\n",
       "      <td>1154</td>\n",
       "      <td>Children of the Revolution (1996)</td>\n",
       "      <td>comedy</td>\n",
       "      <td></td>\n",
       "      <td>635</td>\n",
       "    </tr>\n",
       "    <tr>\n",
       "      <th>17</th>\n",
       "      <td>1009</td>\n",
       "      <td>Blue Juice (1995)</td>\n",
       "      <td>comedy drama</td>\n",
       "      <td></td>\n",
       "      <td>671</td>\n",
       "    </tr>\n",
       "    <tr>\n",
       "      <th>18</th>\n",
       "      <td>964</td>\n",
       "      <td>Diva (1981)</td>\n",
       "      <td>action drama mystery romance thriller</td>\n",
       "      <td></td>\n",
       "      <td>275</td>\n",
       "    </tr>\n",
       "    <tr>\n",
       "      <th>19</th>\n",
       "      <td>898</td>\n",
       "      <td>Cheech and Chong's Up in Smoke (1978)</td>\n",
       "      <td>comedy</td>\n",
       "      <td></td>\n",
       "      <td>635</td>\n",
       "    </tr>\n",
       "    <tr>\n",
       "      <th>20</th>\n",
       "      <td>878</td>\n",
       "      <td>Bob Roberts (1992)</td>\n",
       "      <td>comedy</td>\n",
       "      <td>politics</td>\n",
       "      <td>635</td>\n",
       "    </tr>\n",
       "    <tr>\n",
       "      <th>21</th>\n",
       "      <td>1005</td>\n",
       "      <td>Until the End of the World (Bis ans Ende der W...</td>\n",
       "      <td>adventure drama sci-fi</td>\n",
       "      <td></td>\n",
       "      <td>484</td>\n",
       "    </tr>\n",
       "    <tr>\n",
       "      <th>22</th>\n",
       "      <td>1073</td>\n",
       "      <td>Citizen Ruth (1996)</td>\n",
       "      <td>comedy drama</td>\n",
       "      <td></td>\n",
       "      <td>671</td>\n",
       "    </tr>\n",
       "    <tr>\n",
       "      <th>23</th>\n",
       "      <td>1010</td>\n",
       "      <td>Alien³ (a.k.a. Alien 3) (1992)</td>\n",
       "      <td>action horror sci-fi thriller</td>\n",
       "      <td></td>\n",
       "      <td>317</td>\n",
       "    </tr>\n",
       "    <tr>\n",
       "      <th>24</th>\n",
       "      <td>858</td>\n",
       "      <td>Fog, The (1980)</td>\n",
       "      <td>horror</td>\n",
       "      <td></td>\n",
       "      <td>911</td>\n",
       "    </tr>\n",
       "    <tr>\n",
       "      <th>25</th>\n",
       "      <td>957</td>\n",
       "      <td>Better Off Dead... (1985)</td>\n",
       "      <td>comedy romance</td>\n",
       "      <td>skiing</td>\n",
       "      <td>733</td>\n",
       "    </tr>\n",
       "    <tr>\n",
       "      <th>26</th>\n",
       "      <td>1544</td>\n",
       "      <td>Jungle Book, The (1967)</td>\n",
       "      <td>animation children comedy musical</td>\n",
       "      <td>disney</td>\n",
       "      <td>529</td>\n",
       "    </tr>\n",
       "    <tr>\n",
       "      <th>27</th>\n",
       "      <td>1576</td>\n",
       "      <td>Outsiders, The (1983)</td>\n",
       "      <td>drama</td>\n",
       "      <td>s.e. hinton</td>\n",
       "      <td>813</td>\n",
       "    </tr>\n",
       "    <tr>\n",
       "      <th>28</th>\n",
       "      <td>1291</td>\n",
       "      <td>Sweet Hereafter, The (1997)</td>\n",
       "      <td>drama</td>\n",
       "      <td>canada death</td>\n",
       "      <td>813</td>\n",
       "    </tr>\n",
       "    <tr>\n",
       "      <th>29</th>\n",
       "      <td>915</td>\n",
       "      <td>Goodfellas (1990)</td>\n",
       "      <td>crime drama</td>\n",
       "      <td>mafia</td>\n",
       "      <td>748</td>\n",
       "    </tr>\n",
       "  </tbody>\n",
       "</table>\n",
       "</div>"
      ],
      "text/plain": [
       "    movieId  ... genres_class\n",
       "0      1044  ...          923\n",
       "1       990  ...          869\n",
       "2      1002  ...          466\n",
       "3       816  ...          605\n",
       "4       886  ...          635\n",
       "5       836  ...          813\n",
       "6       969  ...          732\n",
       "7       839  ...          279\n",
       "8       900  ...           67\n",
       "9       958  ...          911\n",
       "10      939  ...          635\n",
       "11      902  ...          903\n",
       "12      899  ...          128\n",
       "13      829  ...          791\n",
       "14      961  ...          205\n",
       "15      911  ...          294\n",
       "16     1154  ...          635\n",
       "17     1009  ...          671\n",
       "18      964  ...          275\n",
       "19      898  ...          635\n",
       "20      878  ...          635\n",
       "21     1005  ...          484\n",
       "22     1073  ...          671\n",
       "23     1010  ...          317\n",
       "24      858  ...          911\n",
       "25      957  ...          733\n",
       "26     1544  ...          529\n",
       "27     1576  ...          813\n",
       "28     1291  ...          813\n",
       "29      915  ...          748\n",
       "\n",
       "[30 rows x 5 columns]"
      ]
     },
     "execution_count": 407,
     "metadata": {
      "tags": []
     },
     "output_type": "execute_result"
    }
   ],
   "source": [
    "def result(movie_copy, most_similar):\n",
    "    \"\"\"\n",
    "    From the prediction indices, the corresponding movies are extracted \n",
    "    from the dataset.\n",
    "    Also the original \"watched\" movie information is obtained.\n",
    "    We return two dataframes: Watched and the Recommendations.\n",
    "    \"\"\"\n",
    "\n",
    "    rec_movies = DF.set_index(\"movieId\").loc[most_similar].reset_index()\n",
    "    rec_movies = rec_movies.iloc[:,:-1]\n",
    "    rec_movies = rec_movies[~rec_movies[\"movieId\"].isin(movie_copy)]\n",
    "    watched_movies = DF.set_index(\"movieId\").loc[movie_copy].reset_index()\n",
    "    watched_movies = watched_movies.iloc[:,1:]\n",
    "    return watched_movies, rec_movies"
   ]
  }
 ],
 "metadata": {
  "accelerator": "GPU",
  "colab": {
   "collapsed_sections": [],
   "name": "Untitled3.ipynb",
   "provenance": []
  },
  "kernelspec": {
   "display_name": "Python 3",
   "language": "python",
   "name": "python3"
  },
  "language_info": {
   "codemirror_mode": {
    "name": "ipython",
    "version": 3
   },
   "file_extension": ".py",
   "mimetype": "text/x-python",
   "name": "python",
   "nbconvert_exporter": "python",
   "pygments_lexer": "ipython3",
   "version": "3.7.4"
  }
 },
 "nbformat": 4,
 "nbformat_minor": 1
}

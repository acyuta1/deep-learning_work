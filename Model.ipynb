{
 "cells": [
  {
   "cell_type": "markdown",
   "metadata": {
    "colab": {
     "base_uri": "https://localhost:8080/",
     "height": 302
    },
    "colab_type": "code",
    "id": "fysaY4f9zHoD",
    "outputId": "ae1c2c3b-ddc4-4314-c205-35509b6ff738"
   },
   "source": [
    "# User to Item Recommendation system"
   ]
  },
  {
   "cell_type": "code",
   "execution_count": 3,
   "metadata": {
    "colab": {
     "base_uri": "https://localhost:8080/",
     "height": 79
    },
    "colab_type": "code",
    "id": "nC3KCaXdbAxe",
    "outputId": "c467dd6e-1907-4ca7-e4a2-9c824cadcffd"
   },
   "outputs": [
    {
     "name": "stderr",
     "output_type": "stream",
     "text": [
      "Using TensorFlow backend.\n"
     ]
    },
    {
     "data": {
      "text/html": [
       "<p style=\"color: red;\">\n",
       "The default version of TensorFlow in Colab will soon switch to TensorFlow 2.x.<br>\n",
       "We recommend you <a href=\"https://www.tensorflow.org/guide/migrate\" target=\"_blank\">upgrade</a> now \n",
       "or ensure your notebook will continue to use TensorFlow 1.x via the <code>%tensorflow_version 1.x</code> magic:\n",
       "<a href=\"https://colab.research.google.com/notebooks/tensorflow_version.ipynb\" target=\"_blank\">more info</a>.</p>\n"
      ],
      "text/plain": [
       "<IPython.core.display.HTML object>"
      ]
     },
     "metadata": {
      "tags": []
     },
     "output_type": "display_data"
    }
   ],
   "source": [
    "import pandas as pd\n",
    "import numpy as np\n",
    "from keras.models import load_model\n",
    "\n",
    "links = pd.read_csv('gdrive/My Drive/links.csv')\n",
    "movies = pd.read_csv('gdrive/My Drive/movies.csv')\n",
    "ratings = pd.read_csv('gdrive/My Drive/ratings.csv')\n",
    "tags = pd.read_csv('gdrive/My Drive/tags.csv')"
   ]
  },
  {
   "cell_type": "markdown",
   "metadata": {
    "colab": {},
    "colab_type": "code",
    "id": "NvyoyuoO-IfA"
   },
   "source": [
    "Cleaning genres string. Replacing \"|\" with \" \" and replacing null with blank string."
   ]
  },
  {
   "cell_type": "code",
   "execution_count": 0,
   "metadata": {
    "colab": {},
    "colab_type": "code",
    "id": "7AN8BgjTbPtq"
   },
   "outputs": [],
   "source": [
    "tags_1 = pd.DataFrame(tags.groupby('movieId')['tag'].apply(lambda x: \"%s\" % ' '.join(x)))\n",
    "df = pd.merge(movies, tags_1,on='movieId', how='left')\n",
    "df['genres'] = df['genres'].str.replace('|',' ')\n",
    "df.fillna(\"\",inplace=True)"
   ]
  },
  {
   "cell_type": "markdown",
   "metadata": {},
   "source": [
    "Label Encoding \"movieId\" column so that the movieId's start with 1 and end with 9742 (max number of movies in the dataset)."
   ]
  },
  {
   "cell_type": "code",
   "execution_count": 0,
   "metadata": {
    "colab": {},
    "colab_type": "code",
    "id": "lp7uYIGDbS63"
   },
   "outputs": [],
   "source": [
    "from sklearn.preprocessing import LabelEncoder\n",
    "item_enc = LabelEncoder()\n",
    "\n",
    "df['movieId'] = item_enc.fit_transform(df['movieId'].values)\n",
    "\n",
    "df['movieId'] = df['movieId']+1"
   ]
  },
  {
   "cell_type": "markdown",
   "metadata": {},
   "source": [
    "Converting upper case characters to lower case. To avoid duplicates when the words are tokenized."
   ]
  },
  {
   "cell_type": "code",
   "execution_count": 0,
   "metadata": {
    "colab": {},
    "colab_type": "code",
    "id": "qIW0olFtbUge"
   },
   "outputs": [],
   "source": [
    "import string\n",
    "\n",
    "df.genres = df.genres.apply(lambda x: x.lower())\n",
    "df.genres = df.genres.apply(lambda x: x.translate(string.punctuation))"
   ]
  },
  {
   "cell_type": "code",
   "execution_count": 0,
   "metadata": {
    "colab": {},
    "colab_type": "code",
    "id": "nxQOfZHObZtR"
   },
   "outputs": [],
   "source": [
    "ratings['movieId'] = item_enc.fit_transform(ratings['movieId'].values)\n",
    "\n",
    "ratings['movieId'] = ratings['movieId']+1\n"
   ]
  },
  {
   "cell_type": "markdown",
   "metadata": {},
   "source": [
    "We will be grouping both movies and their timestamps by userID. Since movies are arranged in ascending order, we will have to reorder movies PER user according to their timestamp, which will result in a better sequence order. "
   ]
  },
  {
   "cell_type": "code",
   "execution_count": 0,
   "metadata": {
    "colab": {},
    "colab_type": "code",
    "id": "ms8P7AK8bbWt"
   },
   "outputs": [],
   "source": [
    "user_movies_watched = pd.DataFrame(ratings.groupby(['userId']).apply(lambda x: [list(x['movieId'])]).apply(pd.Series))\n",
    "all_timestamps = pd.DataFrame(ratings.groupby(['userId']).apply(lambda x: [list(x['timestamp'])]).apply(pd.Series))\n",
    "user_movies_watched = pd.concat([user_movies_watched,all_timestamps], axis=1)\n",
    "\n",
    "user_movies_watched.columns = ['movies','timestamps']"
   ]
  },
  {
   "cell_type": "markdown",
   "metadata": {},
   "source": [
    "Grouping movies by Genres."
   ]
  },
  {
   "cell_type": "code",
   "execution_count": 0,
   "metadata": {
    "colab": {},
    "colab_type": "code",
    "id": "GZqIjNZdcNke"
   },
   "outputs": [],
   "source": [
    "genre_classes = pd.DataFrame(df.groupby(['genres']).apply(lambda x: [list(x['movieId'])]).apply(pd.Series)).reset_index()\n",
    "genre_classes.columns = ['genres','movieId']"
   ]
  },
  {
   "cell_type": "markdown",
   "metadata": {
    "colab": {},
    "colab_type": "code",
    "id": "fbsp6xGPc2Ia"
   },
   "source": [
    "Adding a new column which will now represent the unique genre strings.\n",
    "\n"
   ]
  },
  {
   "cell_type": "code",
   "execution_count": 14,
   "metadata": {
    "colab": {
     "base_uri": "https://localhost:8080/",
     "height": 402
    },
    "colab_type": "code",
    "id": "Ivl5weHDtj7Z",
    "outputId": "d49d23b0-b276-478a-e92a-33a164f32748"
   },
   "outputs": [
    {
     "data": {
      "text/html": [
       "<div>\n",
       "<style scoped>\n",
       "    .dataframe tbody tr th:only-of-type {\n",
       "        vertical-align: middle;\n",
       "    }\n",
       "\n",
       "    .dataframe tbody tr th {\n",
       "        vertical-align: top;\n",
       "    }\n",
       "\n",
       "    .dataframe thead th {\n",
       "        text-align: right;\n",
       "    }\n",
       "</style>\n",
       "<table border=\"1\" class=\"dataframe\">\n",
       "  <thead>\n",
       "    <tr style=\"text-align: right;\">\n",
       "      <th></th>\n",
       "      <th>genres</th>\n",
       "      <th>movieId</th>\n",
       "      <th>genres_class</th>\n",
       "    </tr>\n",
       "  </thead>\n",
       "  <tbody>\n",
       "    <tr>\n",
       "      <th>0</th>\n",
       "      <td>(no genres listed)</td>\n",
       "      <td>[8518, 8685, 8688, 8783, 8837, 8903, 9034, 905...</td>\n",
       "      <td>1</td>\n",
       "    </tr>\n",
       "    <tr>\n",
       "      <th>1</th>\n",
       "      <td>action</td>\n",
       "      <td>[9, 64, 173, 216, 556, 877, 1144, 1202, 1648, ...</td>\n",
       "      <td>2</td>\n",
       "    </tr>\n",
       "    <tr>\n",
       "      <th>2</th>\n",
       "      <td>action adventure</td>\n",
       "      <td>[575, 607, 637, 802, 901, 991, 1209, 1368, 161...</td>\n",
       "      <td>3</td>\n",
       "    </tr>\n",
       "    <tr>\n",
       "      <th>3</th>\n",
       "      <td>action adventure animation</td>\n",
       "      <td>[6926, 7923, 7924, 7925, 7926, 7942, 7943, 795...</td>\n",
       "      <td>4</td>\n",
       "    </tr>\n",
       "    <tr>\n",
       "      <th>4</th>\n",
       "      <td>action adventure animation children</td>\n",
       "      <td>[7902, 7903, 7905, 7907, 8345, 9709]</td>\n",
       "      <td>5</td>\n",
       "    </tr>\n",
       "    <tr>\n",
       "      <th>...</th>\n",
       "      <td>...</td>\n",
       "      <td>...</td>\n",
       "      <td>...</td>\n",
       "    </tr>\n",
       "    <tr>\n",
       "      <th>946</th>\n",
       "      <td>sci-fi thriller</td>\n",
       "      <td>[669, 1321, 2599, 2935, 3618, 3671, 3943, 5361...</td>\n",
       "      <td>947</td>\n",
       "    </tr>\n",
       "    <tr>\n",
       "      <th>947</th>\n",
       "      <td>sci-fi thriller imax</td>\n",
       "      <td>[7688]</td>\n",
       "      <td>948</td>\n",
       "    </tr>\n",
       "    <tr>\n",
       "      <th>948</th>\n",
       "      <td>thriller</td>\n",
       "      <td>[113, 162, 207, 332, 367, 399, 428, 474, 553, ...</td>\n",
       "      <td>949</td>\n",
       "    </tr>\n",
       "    <tr>\n",
       "      <th>949</th>\n",
       "      <td>war</td>\n",
       "      <td>[2006, 2007, 4388, 6787]</td>\n",
       "      <td>950</td>\n",
       "    </tr>\n",
       "    <tr>\n",
       "      <th>950</th>\n",
       "      <td>western</td>\n",
       "      <td>[179, 341, 361, 1802, 2180, 2198, 2291, 2321, ...</td>\n",
       "      <td>951</td>\n",
       "    </tr>\n",
       "  </tbody>\n",
       "</table>\n",
       "<p>951 rows × 3 columns</p>\n",
       "</div>"
      ],
      "text/plain": [
       "                                  genres  ... genres_class\n",
       "0                     (no genres listed)  ...            1\n",
       "1                                 action  ...            2\n",
       "2                       action adventure  ...            3\n",
       "3             action adventure animation  ...            4\n",
       "4    action adventure animation children  ...            5\n",
       "..                                   ...  ...          ...\n",
       "946                      sci-fi thriller  ...          947\n",
       "947                 sci-fi thriller imax  ...          948\n",
       "948                             thriller  ...          949\n",
       "949                                  war  ...          950\n",
       "950                              western  ...          951\n",
       "\n",
       "[951 rows x 3 columns]"
      ]
     },
     "execution_count": 14,
     "metadata": {
      "tags": []
     },
     "output_type": "execute_result"
    }
   ],
   "source": [
    "genre_classes_column = [int(i) for i in range(1,952)]\n",
    "genre_classes['genres_class'] = np.array(genre_classes_column)\n",
    "genre_classes"
   ]
  },
  {
   "cell_type": "markdown",
   "metadata": {},
   "source": [
    "Adding a new column to the main dataframe, which will now hold the tokenized genres.\n",
    "\n"
   ]
  },
  {
   "cell_type": "code",
   "execution_count": 0,
   "metadata": {
    "colab": {},
    "colab_type": "code",
    "id": "zNUIWDklg-Lc"
   },
   "outputs": [],
   "source": [
    "genre_classes_column = [int(i) for i in range(1,952)]\n",
    "genre_classes['genres_class'] = np.array(genre_classes_column)\n",
    "\n",
    "genre_dict = pd.Series(genre_classes.genres_class.values,index=genre_classes.genres).to_dict()\n",
    "df_gen = df.genres.values\n",
    "df_gen=[genre_dict[i] for i in df_gen]\n",
    "df['genres_class'] = np.array(df_gen)"
   ]
  },
  {
   "cell_type": "markdown",
   "metadata": {},
   "source": [
    "A dictionary of movies and its unique genre_class. "
   ]
  },
  {
   "cell_type": "code",
   "execution_count": 0,
   "metadata": {
    "colab": {},
    "colab_type": "code",
    "id": "YjTWtBsBnnWm"
   },
   "outputs": [],
   "source": [
    "genre_movie_dict = pd.Series(df.genres_class.values,index=df.movieId).to_dict()"
   ]
  },
  {
   "cell_type": "code",
   "execution_count": 17,
   "metadata": {
    "colab": {
     "base_uri": "https://localhost:8080/",
     "height": 136
    },
    "colab_type": "code",
    "id": "1vapbnENkXby",
    "outputId": "5f9a5149-f834-4767-8b5f-19a3f31692df"
   },
   "outputs": [
    {
     "data": {
      "text/html": [
       "<div>\n",
       "<style scoped>\n",
       "    .dataframe tbody tr th:only-of-type {\n",
       "        vertical-align: middle;\n",
       "    }\n",
       "\n",
       "    .dataframe tbody tr th {\n",
       "        vertical-align: top;\n",
       "    }\n",
       "\n",
       "    .dataframe thead th {\n",
       "        text-align: right;\n",
       "    }\n",
       "</style>\n",
       "<table border=\"1\" class=\"dataframe\">\n",
       "  <thead>\n",
       "    <tr style=\"text-align: right;\">\n",
       "      <th></th>\n",
       "      <th>movieId</th>\n",
       "      <th>title</th>\n",
       "      <th>genres</th>\n",
       "      <th>tag</th>\n",
       "      <th>genres_class</th>\n",
       "    </tr>\n",
       "  </thead>\n",
       "  <tbody>\n",
       "    <tr>\n",
       "      <th>0</th>\n",
       "      <td>1</td>\n",
       "      <td>Toy Story (1995)</td>\n",
       "      <td>adventure animation children comedy fantasy</td>\n",
       "      <td>pixar pixar fun</td>\n",
       "      <td>352</td>\n",
       "    </tr>\n",
       "    <tr>\n",
       "      <th>1</th>\n",
       "      <td>2</td>\n",
       "      <td>Jumanji (1995)</td>\n",
       "      <td>adventure children fantasy</td>\n",
       "      <td>fantasy magic board game robin williams game</td>\n",
       "      <td>418</td>\n",
       "    </tr>\n",
       "    <tr>\n",
       "      <th>2</th>\n",
       "      <td>3</td>\n",
       "      <td>Grumpier Old Men (1995)</td>\n",
       "      <td>comedy romance</td>\n",
       "      <td>moldy old</td>\n",
       "      <td>733</td>\n",
       "    </tr>\n",
       "  </tbody>\n",
       "</table>\n",
       "</div>"
      ],
      "text/plain": [
       "   movieId  ... genres_class\n",
       "0        1  ...          352\n",
       "1        2  ...          418\n",
       "2        3  ...          733\n",
       "\n",
       "[3 rows x 5 columns]"
      ]
     },
     "execution_count": 17,
     "metadata": {
      "tags": []
     },
     "output_type": "execute_result"
    }
   ],
   "source": [
    "df.head(3)"
   ]
  },
  {
   "cell_type": "code",
   "execution_count": 19,
   "metadata": {
    "colab": {
     "base_uri": "https://localhost:8080/",
     "height": 166
    },
    "colab_type": "code",
    "id": "V9nteBPDbgQR",
    "outputId": "e62c54c8-9577-48a4-c234-a9084eedce88"
   },
   "outputs": [
    {
     "data": {
      "text/html": [
       "<div>\n",
       "<style scoped>\n",
       "    .dataframe tbody tr th:only-of-type {\n",
       "        vertical-align: middle;\n",
       "    }\n",
       "\n",
       "    .dataframe tbody tr th {\n",
       "        vertical-align: top;\n",
       "    }\n",
       "\n",
       "    .dataframe thead th {\n",
       "        text-align: right;\n",
       "    }\n",
       "</style>\n",
       "<table border=\"1\" class=\"dataframe\">\n",
       "  <thead>\n",
       "    <tr style=\"text-align: right;\">\n",
       "      <th></th>\n",
       "      <th>movies</th>\n",
       "      <th>timestamps</th>\n",
       "    </tr>\n",
       "    <tr>\n",
       "      <th>userId</th>\n",
       "      <th></th>\n",
       "      <th></th>\n",
       "    </tr>\n",
       "  </thead>\n",
       "  <tbody>\n",
       "    <tr>\n",
       "      <th>1</th>\n",
       "      <td>[1, 3, 6, 44, 47, 63, 90, 98, 125, 131, 137, 1...</td>\n",
       "      <td>[964982703, 964981247, 964982224, 964983815, 9...</td>\n",
       "    </tr>\n",
       "    <tr>\n",
       "      <th>2</th>\n",
       "      <td>[278, 292, 1284, 2671, 4608, 5295, 6237, 6299,...</td>\n",
       "      <td>[1445714835, 1445715029, 1445715228, 144571488...</td>\n",
       "    </tr>\n",
       "    <tr>\n",
       "      <th>3</th>\n",
       "      <td>[31, 462, 546, 566, 586, 657, 697, 832, 853, 9...</td>\n",
       "      <td>[1306463578, 1306464275, 1306463619, 130646422...</td>\n",
       "    </tr>\n",
       "  </tbody>\n",
       "</table>\n",
       "</div>"
      ],
      "text/plain": [
       "                                                   movies                                         timestamps\n",
       "userId                                                                                                      \n",
       "1       [1, 3, 6, 44, 47, 63, 90, 98, 125, 131, 137, 1...  [964982703, 964981247, 964982224, 964983815, 9...\n",
       "2       [278, 292, 1284, 2671, 4608, 5295, 6237, 6299,...  [1445714835, 1445715029, 1445715228, 144571488...\n",
       "3       [31, 462, 546, 566, 586, 657, 697, 832, 853, 9...  [1306463578, 1306464275, 1306463619, 130646422..."
      ]
     },
     "execution_count": 19,
     "metadata": {
      "tags": []
     },
     "output_type": "execute_result"
    }
   ],
   "source": [
    "user_movies_watched.head(3)"
   ]
  },
  {
   "cell_type": "markdown",
   "metadata": {},
   "source": [
    "Obtaining a single long list which has all the movies seen by every user. Also obtaining a single long list which has all the associated timestamps."
   ]
  },
  {
   "cell_type": "code",
   "execution_count": 0,
   "metadata": {
    "colab": {},
    "colab_type": "code",
    "id": "_Y5u6l2WbqHB"
   },
   "outputs": [],
   "source": [
    "movies_all = user_movies_watched.movies.values\n",
    "time_stamps_all = user_movies_watched.timestamps.values"
   ]
  },
  {
   "cell_type": "markdown",
   "metadata": {
    "colab": {},
    "colab_type": "code",
    "id": "RGw7SW6hojns"
   },
   "source": [
    "For every user(indicated by the sublist **i**, we will be sorting/rearranging movies according to their timestamps."
   ]
  },
  {
   "cell_type": "code",
   "execution_count": 0,
   "metadata": {
    "colab": {},
    "colab_type": "code",
    "id": "s8PT-npqpp6O"
   },
   "outputs": [],
   "source": [
    "\n",
    "movies_list = []\n",
    "for i in range(0,len(movies_all)):\n",
    "    movies_list.append([x for _,x in sorted(zip(time_stamps_all[i],movies_all[i]))])\n"
   ]
  },
  {
   "cell_type": "markdown",
   "metadata": {},
   "source": [
    "Flattening the list of lists into one long list. Later we will create a sequence of 18 or 36."
   ]
  },
  {
   "cell_type": "code",
   "execution_count": 0,
   "metadata": {
    "colab": {},
    "colab_type": "code",
    "id": "Q8Lllk7Pq8bS"
   },
   "outputs": [],
   "source": [
    "movies_all = [item for sublist in movies_list for item in sublist]\n",
    "genres_all = [genre_movie_dict[item] for item in movies_all]"
   ]
  },
  {
   "cell_type": "markdown",
   "metadata": {
    "colab": {},
    "colab_type": "code",
    "id": "stzttAqfbwMs"
   },
   "source": [
    "Will be creating a sequence of 18 movies (which will be our movie Input). Next_movie list will have the movie which immediately follows after a particular sequence."
   ]
  },
  {
   "cell_type": "code",
   "execution_count": 0,
   "metadata": {
    "colab": {},
    "colab_type": "code",
    "id": "uW5tlixIxDOk"
   },
   "outputs": [],
   "source": [
    "maxlen = 18 \n",
    "step = 18\n",
    "movies_list = []\n",
    "genres_list = []\n",
    "\n",
    "for i in range(0, len(movies_all), step):\n",
    "    movies_list.append(movies_all[i: i + maxlen])\n",
    "    genres_list.append(genres_all[i: i + maxlen])\n",
    "    "
   ]
  },
  {
   "cell_type": "code",
   "execution_count": 26,
   "metadata": {
    "colab": {
     "base_uri": "https://localhost:8080/",
     "height": 34
    },
    "colab_type": "code",
    "id": "6Tia-gKGwzYC",
    "outputId": "b3082faa-ccb4-4f53-a7e1-220d2ebb5b8e"
   },
   "outputs": [
    {
     "data": {
      "text/plain": [
       "5602"
      ]
     },
     "execution_count": 26,
     "metadata": {
      "tags": []
     },
     "output_type": "execute_result"
    }
   ],
   "source": [
    "len(movies_list)"
   ]
  },
  {
   "cell_type": "code",
   "execution_count": 27,
   "metadata": {
    "colab": {
     "base_uri": "https://localhost:8080/",
     "height": 34
    },
    "colab_type": "code",
    "id": "wPgWfAcxoBpF",
    "outputId": "4fc6dbac-f670-4f22-86aa-fa08e21d5845"
   },
   "outputs": [
    {
     "name": "stdout",
     "output_type": "stream",
     "text": [
      "951 9724\n"
     ]
    }
   ],
   "source": [
    "gen_size = max(genres_all)\n",
    "movies_size = max(movies_all)\n",
    "\n",
    "print(gen_size,movies_size)"
   ]
  },
  {
   "cell_type": "markdown",
   "metadata": {},
   "source": [
    "Scaling movies array."
   ]
  },
  {
   "cell_type": "code",
   "execution_count": 0,
   "metadata": {
    "colab": {},
    "colab_type": "code",
    "id": "MePybTOPndgm"
   },
   "outputs": [],
   "source": [
    "x_mov = np.asarray(movies_list).astype('float32')/9724\n",
    "x_gen = np.asarray(genres_list)"
   ]
  },
  {
   "cell_type": "markdown",
   "metadata": {},
   "source": [
    "Since there are 5602 different sequences of length 18, we will be creating a multi class **y** wherein every 1 indicates the corresponding sequence. Say a new user watches movies, the users watch pattern must match one of those sequences. "
   ]
  },
  {
   "cell_type": "code",
   "execution_count": null,
   "metadata": {
    "colab": {
     "base_uri": "https://localhost:8080/",
     "height": 422
    },
    "colab_type": "code",
    "id": "JzZCMq1Fm4D9",
    "outputId": "e8169ef5-af5d-444b-849c-096f2070395e"
   },
   "outputs": [],
   "source": [
    "y = [i for i in range(5602)]\n",
    "y = pd.get_dummies(y)\n",
    "y"
   ]
  },
  {
   "cell_type": "code",
   "execution_count": 0,
   "metadata": {
    "colab": {},
    "colab_type": "code",
    "id": "vIMUeGK8yEAV"
   },
   "outputs": [],
   "source": [
    "# y = np.zeros((5602, 9743))\n",
    "# def y_s(j,row):\n",
    "#     for i in row:\n",
    "#         y[j,i]=1\n",
    "\n",
    "# for i in range(0,5602):\n",
    "#     y_s(i,movies_list[i])"
   ]
  },
  {
   "cell_type": "code",
   "execution_count": 34,
   "metadata": {
    "colab": {
     "base_uri": "https://localhost:8080/",
     "height": 34
    },
    "colab_type": "code",
    "id": "JPKrRorIoo3V",
    "outputId": "d28b7887-256d-4e51-da56-3e10bff6bb72"
   },
   "outputs": [
    {
     "data": {
      "text/plain": [
       "(5602, 5602)"
      ]
     },
     "execution_count": 34,
     "metadata": {
      "tags": []
     },
     "output_type": "execute_result"
    }
   ],
   "source": [
    "y.shape"
   ]
  },
  {
   "cell_type": "markdown",
   "metadata": {},
   "source": [
    "The model. Genres will be embedded. The output of embedding will be concatenated with movie input which are then fed to a LSTM layer. "
   ]
  },
  {
   "cell_type": "code",
   "execution_count": 0,
   "metadata": {
    "colab": {},
    "colab_type": "code",
    "id": "VyJbq0tk1e5R"
   },
   "outputs": [],
   "source": [
    "import keras\n",
    "from keras.layers import Concatenate, Dense, Dropout, Flatten, LSTM\n",
    "from keras.models import Model\n",
    "from keras.layers import Input, Reshape, Dot\n",
    "from keras.layers.embeddings import Embedding\n",
    "from keras.optimizers import Adam\n",
    "from keras.regularizers import l2\n",
    "from keras.layers import Add, Activation, Lambda\n",
    "from keras.layers import Bidirectional\n",
    "\n",
    "def recommend():\n",
    "  \n",
    "    genres = Input(shape=(18,))\n",
    "    g = Embedding(gen_size+1, 50)(genres)\n",
    "    g = Flatten()(g)\n",
    "\n",
    "    movies = Input(shape=(18,))\n",
    "    \n",
    "    x = Concatenate()([movies, g])\n",
    "    x = Reshape((1,918))(x)\n",
    "    x = LSTM(100) (x)\n",
    "    x = Activation('relu')(x)\n",
    "    x = Dense(5602)(x)\n",
    "    x = Activation('softmax')(x)\n",
    "    \n",
    "    model = Model(inputs=[movies, genres], outputs=x)\n",
    "    opt = keras.optimizers.Adam(lr=0.001)\n",
    "    model.compile(loss='categorical_crossentropy', optimizer=opt,metrics=['accuracy'])\n",
    "    return model\n"
   ]
  },
  {
   "cell_type": "markdown",
   "metadata": {},
   "source": [
    "Summary of the model."
   ]
  },
  {
   "cell_type": "code",
   "execution_count": 236,
   "metadata": {
    "colab": {
     "base_uri": "https://localhost:8080/",
     "height": 504
    },
    "colab_type": "code",
    "id": "8bdg2z-huKyk",
    "outputId": "3db092b6-da23-40f4-d132-9ebc48d39758"
   },
   "outputs": [
    {
     "name": "stdout",
     "output_type": "stream",
     "text": [
      "Model: \"model_5\"\n",
      "__________________________________________________________________________________________________\n",
      "Layer (type)                    Output Shape         Param #     Connected to                     \n",
      "==================================================================================================\n",
      "input_11 (InputLayer)           (None, 18)           0                                            \n",
      "__________________________________________________________________________________________________\n",
      "embedding_8 (Embedding)         (None, 18, 50)       47600       input_11[0][0]                   \n",
      "__________________________________________________________________________________________________\n",
      "input_12 (InputLayer)           (None, 18)           0                                            \n",
      "__________________________________________________________________________________________________\n",
      "flatten_8 (Flatten)             (None, 900)          0           embedding_8[0][0]                \n",
      "__________________________________________________________________________________________________\n",
      "concatenate_6 (Concatenate)     (None, 918)          0           input_12[0][0]                   \n",
      "                                                                 flatten_8[0][0]                  \n",
      "__________________________________________________________________________________________________\n",
      "reshape_6 (Reshape)             (None, 1, 918)       0           concatenate_6[0][0]              \n",
      "__________________________________________________________________________________________________\n",
      "lstm_5 (LSTM)                   (None, 100)          407600      reshape_6[0][0]                  \n",
      "__________________________________________________________________________________________________\n",
      "activation_9 (Activation)       (None, 100)          0           lstm_5[0][0]                     \n",
      "__________________________________________________________________________________________________\n",
      "dense_5 (Dense)                 (None, 5602)         565802      activation_9[0][0]               \n",
      "__________________________________________________________________________________________________\n",
      "activation_10 (Activation)      (None, 5602)         0           dense_5[0][0]                    \n",
      "==================================================================================================\n",
      "Total params: 1,021,002\n",
      "Trainable params: 1,021,002\n",
      "Non-trainable params: 0\n",
      "__________________________________________________________________________________________________\n"
     ]
    }
   ],
   "source": [
    "model = recommend()\n",
    "model.summary()"
   ]
  },
  {
   "cell_type": "markdown",
   "metadata": {},
   "source": [
    "Training the model."
   ]
  },
  {
   "cell_type": "code",
   "execution_count": 237,
   "metadata": {
    "colab": {
     "base_uri": "https://localhost:8080/",
     "height": 857
    },
    "colab_type": "code",
    "id": "KLqSmLVVYhPe",
    "outputId": "64960bbf-2ff8-4db6-9708-fd2ffc82ecb8"
   },
   "outputs": [
    {
     "name": "stdout",
     "output_type": "stream",
     "text": [
      "Epoch 1/25\n",
      "5602/5602 [==============================] - 4s 627us/step - loss: 8.6921 - acc: 0.0000e+00\n",
      "Epoch 2/25\n",
      "5602/5602 [==============================] - 2s 416us/step - loss: 8.6193 - acc: 0.0012\n",
      "Epoch 3/25\n",
      "5602/5602 [==============================] - 2s 432us/step - loss: 7.5266 - acc: 0.0707\n",
      "Epoch 4/25\n",
      "5602/5602 [==============================] - 2s 430us/step - loss: 4.0750 - acc: 0.4945\n",
      "Epoch 5/25\n",
      "5602/5602 [==============================] - 2s 432us/step - loss: 1.4821 - acc: 0.8358\n",
      "Epoch 6/25\n",
      "5602/5602 [==============================] - 2s 416us/step - loss: 0.5654 - acc: 0.9561\n",
      "Epoch 7/25\n",
      "5602/5602 [==============================] - 2s 422us/step - loss: 0.2421 - acc: 0.9900\n",
      "Epoch 8/25\n",
      "5602/5602 [==============================] - 2s 425us/step - loss: 0.1159 - acc: 0.9984\n",
      "Epoch 9/25\n",
      "5602/5602 [==============================] - 2s 424us/step - loss: 0.0626 - acc: 0.9995\n",
      "Epoch 10/25\n",
      "5602/5602 [==============================] - 2s 427us/step - loss: 0.0377 - acc: 1.0000\n",
      "Epoch 11/25\n",
      "5602/5602 [==============================] - 2s 420us/step - loss: 0.0248 - acc: 1.0000\n",
      "Epoch 12/25\n",
      "5602/5602 [==============================] - 2s 424us/step - loss: 0.0173 - acc: 1.0000\n",
      "Epoch 13/25\n",
      "5602/5602 [==============================] - 2s 418us/step - loss: 0.0127 - acc: 1.0000\n",
      "Epoch 14/25\n",
      "5602/5602 [==============================] - 2s 419us/step - loss: 0.0096 - acc: 1.0000\n",
      "Epoch 15/25\n",
      "5602/5602 [==============================] - 2s 421us/step - loss: 0.0075 - acc: 1.0000\n",
      "Epoch 16/25\n",
      "5602/5602 [==============================] - 2s 421us/step - loss: 0.0059 - acc: 1.0000\n",
      "Epoch 17/25\n",
      "5602/5602 [==============================] - 2s 425us/step - loss: 0.0048 - acc: 1.0000\n",
      "Epoch 18/25\n",
      "5602/5602 [==============================] - 2s 424us/step - loss: 0.0039 - acc: 1.0000\n",
      "Epoch 19/25\n",
      "5602/5602 [==============================] - 2s 440us/step - loss: 0.0032 - acc: 1.0000\n",
      "Epoch 20/25\n",
      "5602/5602 [==============================] - 2s 431us/step - loss: 0.0027 - acc: 1.0000\n",
      "Epoch 21/25\n",
      "5602/5602 [==============================] - 2s 420us/step - loss: 0.0022 - acc: 1.0000\n",
      "Epoch 22/25\n",
      "5602/5602 [==============================] - 2s 425us/step - loss: 0.0019 - acc: 1.0000\n",
      "Epoch 23/25\n",
      "5602/5602 [==============================] - 2s 428us/step - loss: 0.0016 - acc: 1.0000\n",
      "Epoch 24/25\n",
      "5602/5602 [==============================] - 2s 430us/step - loss: 0.0013 - acc: 1.0000\n",
      "Epoch 25/25\n",
      "5602/5602 [==============================] - 2s 422us/step - loss: 0.0011 - acc: 1.0000\n"
     ]
    }
   ],
   "source": [
    "history = model.fit(x=[x_mov,x_gen], y=y, batch_size=16, epochs=25, verbose=1)"
   ]
  },
  {
   "cell_type": "markdown",
   "metadata": {},
   "source": [
    "Plots of loss vs. epoch and accuracy vs. epoch."
   ]
  },
  {
   "cell_type": "code",
   "execution_count": 238,
   "metadata": {
    "colab": {
     "base_uri": "https://localhost:8080/",
     "height": 295
    },
    "colab_type": "code",
    "id": "1hR48SRlSkU6",
    "outputId": "6e2354ad-8bcf-4c84-ea1f-fd0b655dc347"
   },
   "outputs": [
    {
     "data": {
      "image/png": "[encoded data removed]",
      "text/plain": [
       "<Figure size 432x288 with 1 Axes>"
      ]
     },
     "metadata": {
      "tags": []
     },
     "output_type": "display_data"
    }
   ],
   "source": [
    "import matplotlib.pyplot as plt\n",
    "plt.plot(history.history['loss'])\n",
    "plt.title('loss')\n",
    "plt.ylabel('loss')\n",
    "plt.xlabel('epoch')\n",
    "plt.show()"
   ]
  },
  {
   "cell_type": "code",
   "execution_count": 239,
   "metadata": {
    "colab": {
     "base_uri": "https://localhost:8080/",
     "height": 295
    },
    "colab_type": "code",
    "id": "UNUfr9W6Smvn",
    "outputId": "7e56fc3d-901d-4c13-f0b8-480407f3e37c"
   },
   "outputs": [
    {
     "data": {
      "image/png": "[encoded data removed]",
      "text/plain": [
       "<Figure size 432x288 with 1 Axes>"
      ]
     },
     "metadata": {
      "tags": []
     },
     "output_type": "display_data"
    }
   ],
   "source": [
    "import matplotlib.pyplot as plt\n",
    "plt.plot(history.history['acc'])\n",
    "plt.title('Accuracy')\n",
    "plt.ylabel('accuracy')\n",
    "plt.xlabel('epoch')\n",
    "plt.show()"
   ]
  },
  {
   "cell_type": "markdown",
   "metadata": {},
   "source": [
    "random inputs to the model."
   ]
  },
  {
   "cell_type": "code",
   "execution_count": 0,
   "metadata": {
    "colab": {},
    "colab_type": "code",
    "id": "UJeOjAP-22cX"
   },
   "outputs": [],
   "source": [
    "a = [225, 970,1487,1488, 258, 8064, 8377, 7373,7769,3563, 6332]\n",
    "g = [genre_movie_dict[i] for i in a]\n",
    "N = 18 - len(a)\n",
    "mov_i = np.pad(a, (0, N), 'constant')\n",
    "mov_i = np.asarray(mov_i)/9724\n",
    "\n",
    "gen_i = np.pad(a, (0, N), 'constant')\n",
    "gen_i = np.asarray(gen_i)"
   ]
  },
  {
   "cell_type": "markdown",
   "metadata": {},
   "source": [
    "The pattern matches sequences 3226, 3221, 667 (the top 3)"
   ]
  },
  {
   "cell_type": "code",
   "execution_count": 206,
   "metadata": {
    "colab": {
     "base_uri": "https://localhost:8080/",
     "height": 34
    },
    "colab_type": "code",
    "id": "bGjq_BuK170C",
    "outputId": "162a0b2d-abfe-4cae-843a-378921d6557e"
   },
   "outputs": [
    {
     "data": {
      "text/plain": [
       "array([3226, 3221,  667])"
      ]
     },
     "execution_count": 206,
     "metadata": {
      "tags": []
     },
     "output_type": "execute_result"
    }
   ],
   "source": [
    "preds = model.predict([np.array([mov_i,]),np.array([gen_i,])])\n",
    "sequence = preds[0].argsort()[-3:][::-1]\n",
    "sequence"
   ]
  },
  {
   "cell_type": "code",
   "execution_count": 0,
   "metadata": {
    "colab": {},
    "colab_type": "code",
    "id": "AbhgxmEj3nFI"
   },
   "outputs": [],
   "source": [
    "abc = [df.movieId[df.movieId.isin(movies_list[i])].values.tolist() for i in b]\n",
    "abc1 = [item for sublist in abc for item in sublist]"
   ]
  },
  {
   "cell_type": "code",
   "execution_count": 0,
   "metadata": {
    "colab": {},
    "colab_type": "code",
    "id": "D2AqcY1GgCLO"
   },
   "outputs": [],
   "source": []
  }
 ],
 "metadata": {
  "accelerator": "GPU",
  "colab": {
   "collapsed_sections": [],
   "name": "Untitled3.ipynb",
   "provenance": []
  },
  "kernelspec": {
   "display_name": "Python 3",
   "language": "python",
   "name": "python3"
  },
  "language_info": {
   "codemirror_mode": {
    "name": "ipython",
    "version": 3
   },
   "file_extension": ".py",
   "mimetype": "text/x-python",
   "name": "python",
   "nbconvert_exporter": "python",
   "pygments_lexer": "ipython3",
   "version": "3.7.4"
  }
 },
 "nbformat": 4,
 "nbformat_minor": 1
}
